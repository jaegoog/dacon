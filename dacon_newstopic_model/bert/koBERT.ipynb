{
  "nbformat": 4,
  "nbformat_minor": 0,
  "metadata": {
    "colab": {
      "name": "koBERT.ipynb",
      "provenance": [],
      "collapsed_sections": [],
      "machine_shape": "hm"
    },
    "kernelspec": {
      "name": "python3",
      "display_name": "Python 3"
    },
    "language_info": {
      "name": "python"
    },
    "accelerator": "GPU"
  },
  "cells": [
    {
      "cell_type": "code",
      "metadata": {
        "colab": {
          "base_uri": "https://localhost:8080/"
        },
        "id": "5HAji7s04eRe",
        "outputId": "a0448235-6640-4e31-d0cf-af59881dbbac"
      },
      "source": [
        "from google.colab import drive\n",
        "drive.mount('/content/drive')"
      ],
      "execution_count": null,
      "outputs": [
        {
          "output_type": "stream",
          "text": [
            "Mounted at /content/drive\n"
          ],
          "name": "stdout"
        }
      ]
    },
    {
      "cell_type": "code",
      "metadata": {
        "id": "I4bXX2mATJNj"
      },
      "source": [
        "!nvidia-smi"
      ],
      "execution_count": null,
      "outputs": []
    },
    {
      "cell_type": "markdown",
      "metadata": {
        "id": "VRoBgQfW3EMp"
      },
      "source": [
        "# 기본 구성"
      ]
    },
    {
      "cell_type": "code",
      "metadata": {
        "id": "v2I05CaDmnx-"
      },
      "source": [
        "# !pip install transformers\n",
        "!pip install transformers==3.2"
      ],
      "execution_count": null,
      "outputs": []
    },
    {
      "cell_type": "code",
      "metadata": {
        "id": "p_AafiIclswK"
      },
      "source": [
        "pip install tensorflow-addons"
      ],
      "execution_count": null,
      "outputs": []
    },
    {
      "cell_type": "code",
      "metadata": {
        "id": "BzxIbpTpvr6G"
      },
      "source": [
        "import numpy as np\n",
        "import pandas as pd\n",
        "import os\n",
        "import re\n",
        "import json\n",
        "import matplotlib.pyplot as plt\n",
        "from wordcloud import WordCloud\n",
        "import seaborn as sns\n",
        "\n",
        "from sklearn.metrics import accuracy_score, log_loss\n",
        "from sklearn.model_selection import train_test_split, KFold, cross_val_score, StratifiedKFold\n",
        "from tensorflow.keras.models import clone_model\n",
        "\n",
        "from tqdm import tqdm\n",
        "# from pororo import Pororo\n",
        "\n",
        "# from keras import optimizers\n",
        "from transformers import *\n",
        "# from transformers import BertTokenizer, TFBertModel,PreTrainedTokenizerFast, TFBartModel\n",
        "# from kobart_transformers import get_kobart_tokenizer, get_kobart_model\n",
        "\n",
        "import tensorflow as tf\n",
        "import tensorflow_addons as tfa\n",
        "from tensorflow.keras.preprocessing.sequence import pad_sequences #tensorflow 전처리 모듈1\n",
        "from tensorflow.keras.preprocessing.text import Tokenizer #tensorflow 전처리 모듈2\n",
        "from tensorflow.keras.callbacks import EarlyStopping, ModelCheckpoint\n",
        "\n",
        "# 그래프를 출력창에서 바로 볼 수 있게함\n",
        "%matplotlib inline \n"
      ],
      "execution_count": null,
      "outputs": []
    },
    {
      "cell_type": "markdown",
      "metadata": {
        "id": "YC0oNgaelk4L"
      },
      "source": [
        "# BERT를 이용한 NEWS Topic 분류"
      ]
    },
    {
      "cell_type": "markdown",
      "metadata": {
        "id": "cH26NSFjxbPB"
      },
      "source": [
        "### **Tokenizer code**\n",
        "\n",
        "\n"
      ]
    },
    {
      "cell_type": "code",
      "metadata": {
        "id": "3AmgkdPb482G"
      },
      "source": [
        "# coding=utf-8\n",
        "# Copyright 2018 Google AI, Google Brain and Carnegie Mellon University Authors and the HuggingFace Inc. team and Jangwon Park\n",
        "#\n",
        "# Licensed under the Apache License, Version 2.0 (the \"License\");\n",
        "# you may not use this file except in compliance with the License.\n",
        "# You may obtain a copy of the License at\n",
        "#\n",
        "#     http://www.apache.org/licenses/LICENSE-2.0\n",
        "#\n",
        "# Unless required by applicable law or agreed to in writing, software\n",
        "# distributed under the License is distributed on an \"AS IS\" BASIS,\n",
        "# WITHOUT WARRANTIES OR CONDITIONS OF ANY KIND, either express or implied.\n",
        "# See the License for the specific language governing permissions and\n",
        "# limitations under the License.\n",
        "\"\"\" Tokenization classes for KoBERT model \"\"\"\n",
        "\n",
        "\n",
        "import logging\n",
        "import os\n",
        "import unicodedata\n",
        "from shutil import copyfile\n",
        "\n",
        "from transformers import PreTrainedTokenizer\n",
        "\n",
        "logger = logging.getLogger(__name__)\n",
        "\n",
        "VOCAB_FILES_NAMES = {\n",
        "    \"vocab_file\": \"tokenizer_78b3253a26.model\",\n",
        "    \"vocab_txt\": \"vocab.txt\",\n",
        "}\n",
        "\n",
        "PRETRAINED_VOCAB_FILES_MAP = {\n",
        "    \"vocab_file\": {\n",
        "        \"monologg/kobert\": \"https://s3.amazonaws.com/models.huggingface.co/bert/monologg/kobert/tokenizer_78b3253a26.model\",\n",
        "        \"monologg/kobert-lm\": \"https://s3.amazonaws.com/models.huggingface.co/bert/monologg/kobert-lm/tokenizer_78b3253a26.model\",\n",
        "        \"monologg/distilkobert\": \"https://s3.amazonaws.com/models.huggingface.co/bert/monologg/distilkobert/tokenizer_78b3253a26.model\",\n",
        "    },\n",
        "    \"vocab_txt\": {\n",
        "        \"monologg/kobert\": \"https://s3.amazonaws.com/models.huggingface.co/bert/monologg/kobert/vocab.txt\",\n",
        "        \"monologg/kobert-lm\": \"https://s3.amazonaws.com/models.huggingface.co/bert/monologg/kobert-lm/vocab.txt\",\n",
        "        \"monologg/distilkobert\": \"https://s3.amazonaws.com/models.huggingface.co/bert/monologg/distilkobert/vocab.txt\",\n",
        "    },\n",
        "}\n",
        "\n",
        "PRETRAINED_POSITIONAL_EMBEDDINGS_SIZES = {\n",
        "    \"monologg/kobert\": 512,\n",
        "    \"monologg/kobert-lm\": 512,\n",
        "    \"monologg/distilkobert\": 512,\n",
        "}\n",
        "\n",
        "PRETRAINED_INIT_CONFIGURATION = {\n",
        "    \"monologg/kobert\": {\"do_lower_case\": False},\n",
        "    \"monologg/kobert-lm\": {\"do_lower_case\": False},\n",
        "    \"monologg/distilkobert\": {\"do_lower_case\": False},\n",
        "}\n",
        "\n",
        "SPIECE_UNDERLINE = \"▁\"\n",
        "\n",
        "\n",
        "class KoBertTokenizer(PreTrainedTokenizer):\n",
        "    \"\"\"\n",
        "    SentencePiece based tokenizer. Peculiarities:\n",
        "        - requires `SentencePiece <https://github.com/google/sentencepiece>`_\n",
        "    \"\"\"\n",
        "\n",
        "    vocab_files_names = VOCAB_FILES_NAMES\n",
        "    pretrained_vocab_files_map = PRETRAINED_VOCAB_FILES_MAP\n",
        "    pretrained_init_configuration = PRETRAINED_INIT_CONFIGURATION\n",
        "    max_model_input_sizes = PRETRAINED_POSITIONAL_EMBEDDINGS_SIZES\n",
        "\n",
        "    def __init__(\n",
        "        self,\n",
        "        vocab_file,\n",
        "        vocab_txt,\n",
        "        do_lower_case=False,\n",
        "        remove_space=True,\n",
        "        keep_accents=False,\n",
        "        unk_token=\"[UNK]\",\n",
        "        sep_token=\"[SEP]\",\n",
        "        pad_token=\"[PAD]\",\n",
        "        cls_token=\"[CLS]\",\n",
        "        mask_token=\"[MASK]\",\n",
        "        **kwargs,\n",
        "    ):\n",
        "        super().__init__(\n",
        "            unk_token=unk_token,\n",
        "            sep_token=sep_token,\n",
        "            pad_token=pad_token,\n",
        "            cls_token=cls_token,\n",
        "            mask_token=mask_token,\n",
        "            **kwargs,\n",
        "        )\n",
        "\n",
        "        # Build vocab\n",
        "        self.token2idx = dict()\n",
        "        self.idx2token = []\n",
        "        with open(vocab_txt, \"r\", encoding=\"utf-8\") as f:\n",
        "            for idx, token in enumerate(f):\n",
        "                token = token.strip()\n",
        "                self.token2idx[token] = idx\n",
        "                self.idx2token.append(token)\n",
        "\n",
        "        try:\n",
        "            import sentencepiece as spm\n",
        "        except ImportError:\n",
        "            logger.warning(\n",
        "                \"You need to install SentencePiece to use KoBertTokenizer: https://github.com/google/sentencepiece\"\n",
        "                \"pip install sentencepiece\"\n",
        "            )\n",
        "\n",
        "        self.do_lower_case = do_lower_case\n",
        "        self.remove_space = remove_space\n",
        "        self.keep_accents = keep_accents\n",
        "        self.vocab_file = vocab_file\n",
        "        self.vocab_txt = vocab_txt\n",
        "\n",
        "        self.sp_model = spm.SentencePieceProcessor()\n",
        "        self.sp_model.Load(vocab_file)\n",
        "\n",
        "    @property\n",
        "    def vocab_size(self):\n",
        "        return len(self.idx2token)\n",
        "\n",
        "    def get_vocab(self):\n",
        "        return dict(self.token2idx, **self.added_tokens_encoder)\n",
        "\n",
        "    def __getstate__(self):\n",
        "        state = self.__dict__.copy()\n",
        "        state[\"sp_model\"] = None\n",
        "        return state\n",
        "\n",
        "    def __setstate__(self, d):\n",
        "        self.__dict__ = d\n",
        "        try:\n",
        "            import sentencepiece as spm\n",
        "        except ImportError:\n",
        "            logger.warning(\n",
        "                \"You need to install SentencePiece to use KoBertTokenizer: https://github.com/google/sentencepiece\"\n",
        "                \"pip install sentencepiece\"\n",
        "            )\n",
        "        self.sp_model = spm.SentencePieceProcessor()\n",
        "        self.sp_model.Load(self.vocab_file)\n",
        "\n",
        "    def preprocess_text(self, inputs):\n",
        "        if self.remove_space:\n",
        "            outputs = \" \".join(inputs.strip().split())\n",
        "        else:\n",
        "            outputs = inputs\n",
        "        outputs = outputs.replace(\"``\", '\"').replace(\"''\", '\"')\n",
        "\n",
        "        if not self.keep_accents:\n",
        "            outputs = unicodedata.normalize(\"NFKD\", outputs)\n",
        "            outputs = \"\".join([c for c in outputs if not unicodedata.combining(c)])\n",
        "        if self.do_lower_case:\n",
        "            outputs = outputs.lower()\n",
        "\n",
        "        return outputs\n",
        "\n",
        "    def _tokenize(self, text):\n",
        "        \"\"\"Tokenize a string.\"\"\"\n",
        "        text = self.preprocess_text(text)\n",
        "        pieces = self.sp_model.encode(text, out_type=str)\n",
        "        new_pieces = []\n",
        "        for piece in pieces:\n",
        "            if len(piece) > 1 and piece[-1] == str(\",\") and piece[-2].isdigit():\n",
        "                cur_pieces = self.sp_model.EncodeAsPieces(piece[:-1].replace(SPIECE_UNDERLINE, \"\"))\n",
        "                if piece[0] != SPIECE_UNDERLINE and cur_pieces[0][0] == SPIECE_UNDERLINE:\n",
        "                    if len(cur_pieces[0]) == 1:\n",
        "                        cur_pieces = cur_pieces[1:]\n",
        "                    else:\n",
        "                        cur_pieces[0] = cur_pieces[0][1:]\n",
        "                cur_pieces.append(piece[-1])\n",
        "                new_pieces.extend(cur_pieces)\n",
        "            else:\n",
        "                new_pieces.append(piece)\n",
        "\n",
        "        return new_pieces\n",
        "\n",
        "    def _convert_token_to_id(self, token):\n",
        "        \"\"\" Converts a token (str/unicode) in an id using the vocab. \"\"\"\n",
        "        return self.token2idx.get(token, self.token2idx[self.unk_token])\n",
        "\n",
        "    def _convert_id_to_token(self, index):\n",
        "        \"\"\"Converts an index (integer) in a token (string/unicode) using the vocab.\"\"\"\n",
        "        return self.idx2token[index]\n",
        "\n",
        "    def convert_tokens_to_string(self, tokens):\n",
        "        \"\"\"Converts a sequence of tokens (strings for sub-words) in a single string.\"\"\"\n",
        "        out_string = \"\".join(tokens).replace(SPIECE_UNDERLINE, \" \").strip()\n",
        "        return out_string\n",
        "\n",
        "    def build_inputs_with_special_tokens(self, token_ids_0, token_ids_1=None):\n",
        "        \"\"\"\n",
        "        Build model inputs from a sequence or a pair of sequence for sequence classification tasks\n",
        "        by concatenating and adding special tokens.\n",
        "        A KoBERT sequence has the following format:\n",
        "            single sequence: [CLS] X [SEP]\n",
        "            pair of sequences: [CLS] A [SEP] B [SEP]\n",
        "        \"\"\"\n",
        "        if token_ids_1 is None:\n",
        "            return [self.cls_token_id] + token_ids_0 + [self.sep_token_id]\n",
        "        cls = [self.cls_token_id]\n",
        "        sep = [self.sep_token_id]\n",
        "        return cls + token_ids_0 + sep + token_ids_1 + sep\n",
        "\n",
        "    def get_special_tokens_mask(self, token_ids_0, token_ids_1=None, already_has_special_tokens=False):\n",
        "        \"\"\"\n",
        "        Retrieves sequence ids from a token list that has no special tokens added. This method is called when adding\n",
        "        special tokens using the tokenizer ``prepare_for_model`` or ``encode_plus`` methods.\n",
        "        Args:\n",
        "            token_ids_0: list of ids (must not contain special tokens)\n",
        "            token_ids_1: Optional list of ids (must not contain special tokens), necessary when fetching sequence ids\n",
        "                for sequence pairs\n",
        "            already_has_special_tokens: (default False) Set to True if the token list is already formated with\n",
        "                special tokens for the model\n",
        "        Returns:\n",
        "            A list of integers in the range [0, 1]: 0 for a special token, 1 for a sequence token.\n",
        "        \"\"\"\n",
        "\n",
        "        if already_has_special_tokens:\n",
        "            if token_ids_1 is not None:\n",
        "                raise ValueError(\n",
        "                    \"You should not supply a second sequence if the provided sequence of \"\n",
        "                    \"ids is already formated with special tokens for the model.\"\n",
        "                )\n",
        "            return list(\n",
        "                map(\n",
        "                    lambda x: 1 if x in [self.sep_token_id, self.cls_token_id] else 0,\n",
        "                    token_ids_0,\n",
        "                )\n",
        "            )\n",
        "\n",
        "        if token_ids_1 is not None:\n",
        "            return [1] + ([0] * len(token_ids_0)) + [1] + ([0] * len(token_ids_1)) + [1]\n",
        "        return [1] + ([0] * len(token_ids_0)) + [1]\n",
        "\n",
        "    def create_token_type_ids_from_sequences(self, token_ids_0, token_ids_1=None):\n",
        "        \"\"\"\n",
        "        Creates a mask from the two sequences passed to be used in a sequence-pair classification task.\n",
        "        A KoBERT sequence pair mask has the following format:\n",
        "        0 0 0 0 0 0 0 0 0 0 1 1 1 1 1 1 1 1 1 1 1\n",
        "        | first sequence    | second sequence\n",
        "        if token_ids_1 is None, only returns the first portion of the mask (0's).\n",
        "        \"\"\"\n",
        "        sep = [self.sep_token_id]\n",
        "        cls = [self.cls_token_id]\n",
        "        if token_ids_1 is None:\n",
        "            return len(cls + token_ids_0 + sep) * [0]\n",
        "        return len(cls + token_ids_0 + sep) * [0] + len(token_ids_1 + sep) * [1]\n",
        "\n",
        "    def save_vocabulary(self, save_directory):\n",
        "        \"\"\"Save the sentencepiece vocabulary (copy original file) and special tokens file\n",
        "        to a directory.\n",
        "        \"\"\"\n",
        "        if not os.path.isdir(save_directory):\n",
        "            logger.error(\"Vocabulary path ({}) should be a directory\".format(save_directory))\n",
        "            return\n",
        "\n",
        "        # 1. Save sentencepiece model\n",
        "        out_vocab_model = os.path.join(save_directory, VOCAB_FILES_NAMES[\"vocab_file\"])\n",
        "\n",
        "        if os.path.abspath(self.vocab_file) != os.path.abspath(out_vocab_model):\n",
        "            copyfile(self.vocab_file, out_vocab_model)\n",
        "\n",
        "        # 2. Save vocab.txt\n",
        "        index = 0\n",
        "        out_vocab_txt = os.path.join(save_directory, VOCAB_FILES_NAMES[\"vocab_txt\"])\n",
        "        with open(out_vocab_txt, \"w\", encoding=\"utf-8\") as writer:\n",
        "            for token, token_index in sorted(self.token2idx.items(), key=lambda kv: kv[1]):\n",
        "                if index != token_index:\n",
        "                    logger.warning(\n",
        "                        \"Saving vocabulary to {}: vocabulary indices are not consecutive.\"\n",
        "                        \" Please check that the vocabulary is not corrupted!\".format(out_vocab_txt)\n",
        "                    )\n",
        "                    index = token_index\n",
        "                writer.write(token + \"\\n\")\n",
        "                index += 1\n",
        "\n",
        "        return out_vocab_model, out_vocab_txt"
      ],
      "execution_count": null,
      "outputs": []
    },
    {
      "cell_type": "markdown",
      "metadata": {
        "id": "cVYXBQPyr6N0"
      },
      "source": [
        "## **전처리 실행 code Mecab 사용**"
      ]
    },
    {
      "cell_type": "code",
      "metadata": {
        "id": "2iXF8Qcru5VX"
      },
      "source": [
        "#################\n",
        "## Import DATA, submission file\n",
        "train = pd.read_csv(\"/content/drive/MyDrive/augm_data/train_clean_4bert.csv\", error_bad_lines=False  )\n",
        "test = pd.read_csv(\"/content/drive/MyDrive/augm_data/test_clean_4bert.csv\",error_bad_lines=False)\n",
        "submission = pd.read_csv(\"/content/drive/MyDrive/DACON/topic_classification/sample_submission.csv\",error_bad_lines=False)\n",
        "topic_dict = pd.read_csv(\"/content/drive/MyDrive/DACON/topic_classification/topic_dict.csv\",error_bad_lines=False)"
      ],
      "execution_count": null,
      "outputs": []
    },
    {
      "cell_type": "code",
      "metadata": {
        "colab": {
          "base_uri": "https://localhost:8080/",
          "height": 606
        },
        "id": "FaQlyFeLgYbr",
        "outputId": "55892e34-5e45-4955-d439-4e968ebccbaf"
      },
      "source": [
        "train"
      ],
      "execution_count": null,
      "outputs": [
        {
          "output_type": "execute_result",
          "data": {
            "text/html": [
              "<div>\n",
              "<style scoped>\n",
              "    .dataframe tbody tr th:only-of-type {\n",
              "        vertical-align: middle;\n",
              "    }\n",
              "\n",
              "    .dataframe tbody tr th {\n",
              "        vertical-align: top;\n",
              "    }\n",
              "\n",
              "    .dataframe thead th {\n",
              "        text-align: right;\n",
              "    }\n",
              "</style>\n",
              "<table border=\"1\" class=\"dataframe\">\n",
              "  <thead>\n",
              "    <tr style=\"text-align: right;\">\n",
              "      <th></th>\n",
              "      <th>Unnamed: 0</th>\n",
              "      <th>index</th>\n",
              "      <th>title</th>\n",
              "      <th>topic_idx</th>\n",
              "      <th>ko_to_en</th>\n",
              "      <th>en_to_ko</th>\n",
              "      <th>c_title</th>\n",
              "      <th>c_title_enko</th>\n",
              "    </tr>\n",
              "  </thead>\n",
              "  <tbody>\n",
              "    <tr>\n",
              "      <th>0</th>\n",
              "      <td>0</td>\n",
              "      <td>0</td>\n",
              "      <td>인천→핀란드 항공기 결항…휴가철 여행객 분통</td>\n",
              "      <td>4</td>\n",
              "      <td>travelers' anger during the flight cancellatio...</td>\n",
              "      <td>인천 핀란드 항공편 취소 당시 여행자들의 분노</td>\n",
              "      <td>인천 핀란드 항공기 결항 휴가철 여행객 분통</td>\n",
              "      <td>인천 핀란드 항공편 취소 당시 여행자들의 분노</td>\n",
              "    </tr>\n",
              "    <tr>\n",
              "      <th>1</th>\n",
              "      <td>1</td>\n",
              "      <td>1</td>\n",
              "      <td>실리콘밸리 넘어서겠다…구글 15조원 들여 美전역 거점화</td>\n",
              "      <td>4</td>\n",
              "      <td>I'll cross Silicon Valley. 15 trillion won in ...</td>\n",
              "      <td>나는 실리콘밸리를 건너갈 것이다 구글이 미국을 세계화하는 데 15조원이 투입됐다.</td>\n",
              "      <td>실리콘밸리 넘어서겠다 구글 number조원 들여 미국전역 거점화</td>\n",
              "      <td>나는 실리콘밸리를 건너갈 것이다 구글이 미국을 세계화하는 데 number조원이 투입됐다</td>\n",
              "    </tr>\n",
              "    <tr>\n",
              "      <th>2</th>\n",
              "      <td>2</td>\n",
              "      <td>2</td>\n",
              "      <td>이란 외무 긴장완화 해결책은 미국이 경제전쟁 멈추는 것</td>\n",
              "      <td>4</td>\n",
              "      <td>the solution to easing Iran's foreign tension ...</td>\n",
              "      <td>이란의 외국 긴장을 완화하기 위한 해법은 미국 경제전쟁을 중단하는 것이다.</td>\n",
              "      <td>이란 외무 긴장완화 해결책은 미국이 경제전쟁 멈추는 것</td>\n",
              "      <td>이란의 외국 긴장을 완화하기 위한 해법은 미국 경제전쟁을 중단하는 것이다</td>\n",
              "    </tr>\n",
              "    <tr>\n",
              "      <th>3</th>\n",
              "      <td>3</td>\n",
              "      <td>3</td>\n",
              "      <td>NYT 클린턴 측근韓기업 특수관계 조명…공과 사 맞물려종합</td>\n",
              "      <td>4</td>\n",
              "      <td>a combination of special relations with Korean...</td>\n",
              "      <td>NYT 클린턴과 가까운 한국 기업과의 특별한 관계가 결합된 것</td>\n",
              "      <td>nyt 클린턴 측근한국기업 특수관계 조명 공과 사 맞물려종합</td>\n",
              "      <td>nyt 클린턴과 가까운 한국 기업과의 특별한 관계가 결합된 것</td>\n",
              "    </tr>\n",
              "    <tr>\n",
              "      <th>4</th>\n",
              "      <td>4</td>\n",
              "      <td>4</td>\n",
              "      <td>시진핑 트럼프에 중미 무역협상 조속 타결 희망</td>\n",
              "      <td>4</td>\n",
              "      <td>the hope for a quick settlement of the U.S.-Ch...</td>\n",
              "      <td>시진핑 트럼프 국가주석과의 미,중 무역협상이 빠르게 타결될 수 있기를 희망한다.</td>\n",
              "      <td>시진핑 트럼프에 중미 무역협상 조속 타결 희망</td>\n",
              "      <td>시진핑 트럼프 국가주석과의 미 중 무역협상이 빠르게 타결될 수 있기를 희망한다</td>\n",
              "    </tr>\n",
              "    <tr>\n",
              "      <th>...</th>\n",
              "      <td>...</td>\n",
              "      <td>...</td>\n",
              "      <td>...</td>\n",
              "      <td>...</td>\n",
              "      <td>...</td>\n",
              "      <td>...</td>\n",
              "      <td>...</td>\n",
              "      <td>...</td>\n",
              "    </tr>\n",
              "    <tr>\n",
              "      <th>45649</th>\n",
              "      <td>45649</td>\n",
              "      <td>45649</td>\n",
              "      <td>KB금융 미국 IB 스티펠과 제휴…선진국 시장 공략</td>\n",
              "      <td>1</td>\n",
              "      <td>a partnership with KB Financial's U.S. IB Steel</td>\n",
              "      <td>KB금융의 미국 IB스틸과의 제휴</td>\n",
              "      <td>kb금융 미국 ib 스티펠과 제휴 선진국 시장 공략</td>\n",
              "      <td>kb금융의 미국 ib스틸과의 제휴</td>\n",
              "    </tr>\n",
              "    <tr>\n",
              "      <th>45650</th>\n",
              "      <td>45650</td>\n",
              "      <td>45650</td>\n",
              "      <td>1보 서울시교육청 신종코로나 확산에 개학 연기·휴업 검토</td>\n",
              "      <td>2</td>\n",
              "      <td>a review of postponement and closure of the op...</td>\n",
              "      <td>서울시교육청에서 새로운 코로나 개장 연기 및 폐쇄 심사</td>\n",
              "      <td>number보 서울시교육청 신종코로나 확산에 개학 연기 휴업 검토</td>\n",
              "      <td>서울시교육청에서 새로운 코로나 개장 연기 및 폐쇄 심사</td>\n",
              "    </tr>\n",
              "    <tr>\n",
              "      <th>45651</th>\n",
              "      <td>45651</td>\n",
              "      <td>45651</td>\n",
              "      <td>게시판 키움증권 2020 키움 영웅전 실전투자대회</td>\n",
              "      <td>1</td>\n",
              "      <td>an actual investment tournament for Kiwoom Sec...</td>\n",
              "      <td>게시판에서 열린 2020년 키움증권 실제 투자대회</td>\n",
              "      <td>게시판 키움증권 number 키움 영웅전 실전투자대회</td>\n",
              "      <td>게시판에서 열린 number년 키움증권 실제 투자대회</td>\n",
              "    </tr>\n",
              "    <tr>\n",
              "      <th>45652</th>\n",
              "      <td>45652</td>\n",
              "      <td>45652</td>\n",
              "      <td>답변하는 배기동 국립중앙박물관장</td>\n",
              "      <td>2</td>\n",
              "      <td>Bae Ki-dong, head of the National Museum of Korea</td>\n",
              "      <td>배기동 국립중앙박물관장</td>\n",
              "      <td>답변하는 배기동 국립중앙박물관장</td>\n",
              "      <td>배기동 국립중앙박물관장</td>\n",
              "    </tr>\n",
              "    <tr>\n",
              "      <th>45653</th>\n",
              "      <td>45653</td>\n",
              "      <td>45653</td>\n",
              "      <td>2020 한국인터넷기자상 시상식 내달 1일 개최…특별상 김성후</td>\n",
              "      <td>2</td>\n",
              "      <td>Kim Sung-hoo, a special award for the 2020 Kor...</td>\n",
              "      <td>다음 달 1일 2020 대한민국 인터넷 저널리스트 어워드 특별상 김성후</td>\n",
              "      <td>number 한국인터넷기자상 시상식 내달 number일 개최 특별상 김성후</td>\n",
              "      <td>다음 달 number일 number 대한민국 인터넷 저널리스트 어워드 특별상 김성후</td>\n",
              "    </tr>\n",
              "  </tbody>\n",
              "</table>\n",
              "<p>45654 rows × 8 columns</p>\n",
              "</div>"
            ],
            "text/plain": [
              "       Unnamed: 0  ...                                      c_title_enko\n",
              "0               0  ...                         인천 핀란드 항공편 취소 당시 여행자들의 분노\n",
              "1               1  ...  나는 실리콘밸리를 건너갈 것이다 구글이 미국을 세계화하는 데 number조원이 투입됐다\n",
              "2               2  ...          이란의 외국 긴장을 완화하기 위한 해법은 미국 경제전쟁을 중단하는 것이다\n",
              "3               3  ...                nyt 클린턴과 가까운 한국 기업과의 특별한 관계가 결합된 것\n",
              "4               4  ...       시진핑 트럼프 국가주석과의 미 중 무역협상이 빠르게 타결될 수 있기를 희망한다\n",
              "...           ...  ...                                               ...\n",
              "45649       45649  ...                                kb금융의 미국 ib스틸과의 제휴\n",
              "45650       45650  ...                    서울시교육청에서 새로운 코로나 개장 연기 및 폐쇄 심사\n",
              "45651       45651  ...                     게시판에서 열린 number년 키움증권 실제 투자대회\n",
              "45652       45652  ...                                      배기동 국립중앙박물관장\n",
              "45653       45653  ...    다음 달 number일 number 대한민국 인터넷 저널리스트 어워드 특별상 김성후\n",
              "\n",
              "[45654 rows x 8 columns]"
            ]
          },
          "metadata": {
            "tags": []
          },
          "execution_count": 8
        }
      ]
    },
    {
      "cell_type": "code",
      "metadata": {
        "id": "it4QfpH4czre"
      },
      "source": [
        "train_1 = train[['topic_idx', 'c_title']]\n",
        "train_2 = train[[ 'topic_idx', 'c_title_enko']]\n",
        "train_2 = train_2.rename(columns={'c_title_enko':'c_title'})"
      ],
      "execution_count": null,
      "outputs": []
    },
    {
      "cell_type": "code",
      "metadata": {
        "colab": {
          "base_uri": "https://localhost:8080/",
          "height": 571
        },
        "id": "Wq0J8DoR7LHo",
        "outputId": "861b3230-4ecc-447c-f3f4-1600e04cea71"
      },
      "source": [
        "test"
      ],
      "execution_count": null,
      "outputs": [
        {
          "output_type": "execute_result",
          "data": {
            "text/html": [
              "<div>\n",
              "<style scoped>\n",
              "    .dataframe tbody tr th:only-of-type {\n",
              "        vertical-align: middle;\n",
              "    }\n",
              "\n",
              "    .dataframe tbody tr th {\n",
              "        vertical-align: top;\n",
              "    }\n",
              "\n",
              "    .dataframe thead th {\n",
              "        text-align: right;\n",
              "    }\n",
              "</style>\n",
              "<table border=\"1\" class=\"dataframe\">\n",
              "  <thead>\n",
              "    <tr style=\"text-align: right;\">\n",
              "      <th></th>\n",
              "      <th>index</th>\n",
              "      <th>clear_text</th>\n",
              "      <th>ko_to_en</th>\n",
              "      <th>en_to_ko</th>\n",
              "      <th>clear_ko</th>\n",
              "      <th>clear_ko_1</th>\n",
              "    </tr>\n",
              "  </thead>\n",
              "  <tbody>\n",
              "    <tr>\n",
              "      <th>0</th>\n",
              "      <td>45654</td>\n",
              "      <td>유튜브 내달 2일까지 크리에이터 지원 공간 운영</td>\n",
              "      <td>the operation of creator support spaces until ...</td>\n",
              "      <td>다음 달 2일까지 유튜브에서 크리에이터 지원 공간 운영</td>\n",
              "      <td>다음 유튜브 크리에이터 지원 공간 운영</td>\n",
              "      <td>유튜브 내달 일 크리에이터 지원 공간 운영</td>\n",
              "    </tr>\n",
              "    <tr>\n",
              "      <th>1</th>\n",
              "      <td>45655</td>\n",
              "      <td>어버이날 맑다가 흐려져 남부지방 옅은 황사</td>\n",
              "      <td>a pale yellow dust in the southern part of the...</td>\n",
              "      <td>아버지의 날이 맑아지면서 남부지방의 옅은 노란 먼지</td>\n",
              "      <td>아버지 맑다 남부 지방 옅다 노랗다 먼지</td>\n",
              "      <td>어버이날 맑 남부 지방 옅 황사</td>\n",
              "    </tr>\n",
              "    <tr>\n",
              "      <th>2</th>\n",
              "      <td>45656</td>\n",
              "      <td>내년부터 국가rd 평가 때 논문건수는 반영 않는다</td>\n",
              "      <td>From next year, the number of papers will not ...</td>\n",
              "      <td>내년부터는 전국 RD 평가에 논문 수가 반영되지 않는다.</td>\n",
              "      <td>내년 전국 rd 평가 논문 수가 반영 않다</td>\n",
              "      <td>내년 국가 rd 평가 때 논문 건수 반영 않</td>\n",
              "    </tr>\n",
              "    <tr>\n",
              "      <th>3</th>\n",
              "      <td>45657</td>\n",
              "      <td>김명자 신임 과총 회장 원로와 젊은 과학자 지혜 모을 것</td>\n",
              "      <td>the gathering of Kim Myung-ja, the new preside...</td>\n",
              "      <td>김명자 신임 과학협의회 회장과 젊은 과학자들의 지혜 모임</td>\n",
              "      <td>김명자 신임 과학 협의 회장 젊다 과학자 지혜 모임</td>\n",
              "      <td>김명자 신임 과 총 회장 원로 젊 과학자 지혜</td>\n",
              "    </tr>\n",
              "    <tr>\n",
              "      <th>4</th>\n",
              "      <td>45658</td>\n",
              "      <td>회색인간 작가 김동식 양심고백 등 새 소설집 2권 출간</td>\n",
              "      <td>the publication of two new novels, including g...</td>\n",
              "      <td>회색 작가 김동식, 양심 고백 등 두 편의 새 소설이 출간되었다.</td>\n",
              "      <td>회색 작가 동식 양심 고백 편의 소설 추다 되어다</td>\n",
              "      <td>회색 인간 작가 김동식 심 새 소설 집 출간</td>\n",
              "    </tr>\n",
              "    <tr>\n",
              "      <th>...</th>\n",
              "      <td>...</td>\n",
              "      <td>...</td>\n",
              "      <td>...</td>\n",
              "      <td>...</td>\n",
              "      <td>...</td>\n",
              "      <td>...</td>\n",
              "    </tr>\n",
              "    <tr>\n",
              "      <th>9126</th>\n",
              "      <td>54780</td>\n",
              "      <td>인천 오후 3시35분 대설주의보 눈 3 1cm 쌓여</td>\n",
              "      <td>At 3:35 p.m. in Incheon, snowfall is 3.1cm.</td>\n",
              "      <td>인천 오후 3시 35분에는 눈이 3.1㎝에 달한다.</td>\n",
              "      <td>인천 오후</td>\n",
              "      <td>인천 오후 시분 대설주의보 눈 cm</td>\n",
              "    </tr>\n",
              "    <tr>\n",
              "      <th>9127</th>\n",
              "      <td>54781</td>\n",
              "      <td>노래방에서 지인 성추행 외교부 사무관 불구속 입건종합</td>\n",
              "      <td>a general assembly of sexual harassment offici...</td>\n",
              "      <td>노래방 성추행 관계자들의 불구속 집회</td>\n",
              "      <td>노래방 성추행 관계자 불구속 집회</td>\n",
              "      <td>노래방 지인 성추행 외교부 사무관 불 구속 입건 종합</td>\n",
              "    </tr>\n",
              "    <tr>\n",
              "      <th>9128</th>\n",
              "      <td>54782</td>\n",
              "      <td>40년 전 부마항쟁 부산 시위 사진 2점 최초 공개</td>\n",
              "      <td>the first two photos of the Busan protest at t...</td>\n",
              "      <td>40년 전 부마항에서 부산시위를 벌인 첫 두 장의 사진</td>\n",
              "      <td>부마 부산 시위 벌이다 장의 사진</td>\n",
              "      <td>년 전 부마 항쟁 부산 시위 사진 점 최초 공개</td>\n",
              "    </tr>\n",
              "    <tr>\n",
              "      <th>9129</th>\n",
              "      <td>54783</td>\n",
              "      <td>게시판 아리랑tv 아프리카개발은행 총회 개회식 생중계</td>\n",
              "      <td>a live broadcast of the opening ceremony of th...</td>\n",
              "      <td>아리란티브 게시판에서 아프리카개발은행 총회 개회식 생중계</td>\n",
              "      <td>아리다 티브 게시판 아프리카 개발 은행 총회 개회 생중계</td>\n",
              "      <td>게시판 아리랑 tv 아프리카 개발은행 총회 개회식 생 중계</td>\n",
              "    </tr>\n",
              "    <tr>\n",
              "      <th>9130</th>\n",
              "      <td>54784</td>\n",
              "      <td>유영민 과기장관 강소특구는 지역 혁신의 중심 지원책 강구</td>\n",
              "      <td>Yoo Young-min's Special Zone for Science and T...</td>\n",
              "      <td>유영민 과학기술부 장관의 강소구 특구가 지역혁신을 위한 중심지원이다.</td>\n",
              "      <td>유영민 과학기술부 장관 강소 특구 지역 혁신 중심지</td>\n",
              "      <td>유영민 과기 장관 강소 특구 지역 혁신 중심 지원 책 강구</td>\n",
              "    </tr>\n",
              "  </tbody>\n",
              "</table>\n",
              "<p>9131 rows × 6 columns</p>\n",
              "</div>"
            ],
            "text/plain": [
              "      index  ...                        clear_ko_1\n",
              "0     45654  ...           유튜브 내달 일 크리에이터 지원 공간 운영\n",
              "1     45655  ...                 어버이날 맑 남부 지방 옅 황사\n",
              "2     45656  ...          내년 국가 rd 평가 때 논문 건수 반영 않\n",
              "3     45657  ...         김명자 신임 과 총 회장 원로 젊 과학자 지혜\n",
              "4     45658  ...          회색 인간 작가 김동식 심 새 소설 집 출간\n",
              "...     ...  ...                               ...\n",
              "9126  54780  ...               인천 오후 시분 대설주의보 눈 cm\n",
              "9127  54781  ...     노래방 지인 성추행 외교부 사무관 불 구속 입건 종합\n",
              "9128  54782  ...        년 전 부마 항쟁 부산 시위 사진 점 최초 공개\n",
              "9129  54783  ...  게시판 아리랑 tv 아프리카 개발은행 총회 개회식 생 중계\n",
              "9130  54784  ...  유영민 과기 장관 강소 특구 지역 혁신 중심 지원 책 강구\n",
              "\n",
              "[9131 rows x 6 columns]"
            ]
          },
          "metadata": {
            "tags": []
          },
          "execution_count": 137
        }
      ]
    },
    {
      "cell_type": "code",
      "metadata": {
        "id": "r6t6O3b5gfNj"
      },
      "source": [
        "test_1 = test[['clear_ko']]\n",
        "test_2 = test[['clear_ko_1']]\n",
        "test_2 = test_2.rename(columns={'clear_ko_1':'clear_ko'})"
      ],
      "execution_count": null,
      "outputs": []
    },
    {
      "cell_type": "code",
      "metadata": {
        "colab": {
          "base_uri": "https://localhost:8080/",
          "height": 408
        },
        "id": "FkkM2Gg7qvNH",
        "outputId": "71595372-e257-4d1f-bd15-5a578bcd7aee"
      },
      "source": [
        "test_2"
      ],
      "execution_count": null,
      "outputs": [
        {
          "output_type": "execute_result",
          "data": {
            "text/html": [
              "<div>\n",
              "<style scoped>\n",
              "    .dataframe tbody tr th:only-of-type {\n",
              "        vertical-align: middle;\n",
              "    }\n",
              "\n",
              "    .dataframe tbody tr th {\n",
              "        vertical-align: top;\n",
              "    }\n",
              "\n",
              "    .dataframe thead th {\n",
              "        text-align: right;\n",
              "    }\n",
              "</style>\n",
              "<table border=\"1\" class=\"dataframe\">\n",
              "  <thead>\n",
              "    <tr style=\"text-align: right;\">\n",
              "      <th></th>\n",
              "      <th>clear_ko</th>\n",
              "    </tr>\n",
              "  </thead>\n",
              "  <tbody>\n",
              "    <tr>\n",
              "      <th>0</th>\n",
              "      <td>유튜브 내달 일 크리에이터 지원 공간 운영</td>\n",
              "    </tr>\n",
              "    <tr>\n",
              "      <th>1</th>\n",
              "      <td>어버이날 맑 남부 지방 옅 황사</td>\n",
              "    </tr>\n",
              "    <tr>\n",
              "      <th>2</th>\n",
              "      <td>내년 국가 rd 평가 때 논문 건수 반영 않</td>\n",
              "    </tr>\n",
              "    <tr>\n",
              "      <th>3</th>\n",
              "      <td>김명자 신임 과 총 회장 원로 젊 과학자 지혜</td>\n",
              "    </tr>\n",
              "    <tr>\n",
              "      <th>4</th>\n",
              "      <td>회색 인간 작가 김동식 심 새 소설 집 출간</td>\n",
              "    </tr>\n",
              "    <tr>\n",
              "      <th>...</th>\n",
              "      <td>...</td>\n",
              "    </tr>\n",
              "    <tr>\n",
              "      <th>9126</th>\n",
              "      <td>인천 오후 시분 대설주의보 눈 cm</td>\n",
              "    </tr>\n",
              "    <tr>\n",
              "      <th>9127</th>\n",
              "      <td>노래방 지인 성추행 외교부 사무관 불 구속 입건 종합</td>\n",
              "    </tr>\n",
              "    <tr>\n",
              "      <th>9128</th>\n",
              "      <td>년 전 부마 항쟁 부산 시위 사진 점 최초 공개</td>\n",
              "    </tr>\n",
              "    <tr>\n",
              "      <th>9129</th>\n",
              "      <td>게시판 아리랑 tv 아프리카 개발은행 총회 개회식 생 중계</td>\n",
              "    </tr>\n",
              "    <tr>\n",
              "      <th>9130</th>\n",
              "      <td>유영민 과기 장관 강소 특구 지역 혁신 중심 지원 책 강구</td>\n",
              "    </tr>\n",
              "  </tbody>\n",
              "</table>\n",
              "<p>9131 rows × 1 columns</p>\n",
              "</div>"
            ],
            "text/plain": [
              "                              clear_ko\n",
              "0              유튜브 내달 일 크리에이터 지원 공간 운영\n",
              "1                    어버이날 맑 남부 지방 옅 황사\n",
              "2             내년 국가 rd 평가 때 논문 건수 반영 않\n",
              "3            김명자 신임 과 총 회장 원로 젊 과학자 지혜\n",
              "4             회색 인간 작가 김동식 심 새 소설 집 출간\n",
              "...                                ...\n",
              "9126               인천 오후 시분 대설주의보 눈 cm\n",
              "9127     노래방 지인 성추행 외교부 사무관 불 구속 입건 종합\n",
              "9128        년 전 부마 항쟁 부산 시위 사진 점 최초 공개\n",
              "9129  게시판 아리랑 tv 아프리카 개발은행 총회 개회식 생 중계\n",
              "9130  유영민 과기 장관 강소 특구 지역 혁신 중심 지원 책 강구\n",
              "\n",
              "[9131 rows x 1 columns]"
            ]
          },
          "metadata": {
            "tags": []
          },
          "execution_count": 139
        }
      ]
    },
    {
      "cell_type": "code",
      "metadata": {
        "id": "5oHyFFfHgQoj"
      },
      "source": [
        "train_augm = pd.concat([train_1,train_2], ignore_index=True )\n",
        "# test_augm = pd.concat([test_1,test_2], ignore_index=True )"
      ],
      "execution_count": null,
      "outputs": []
    },
    {
      "cell_type": "code",
      "metadata": {
        "colab": {
          "base_uri": "https://localhost:8080/",
          "height": 419
        },
        "id": "cKi2Bk427cIa",
        "outputId": "b5fa9110-5fff-4c5a-fd61-273ebc690fff"
      },
      "source": [
        "train_augm"
      ],
      "execution_count": null,
      "outputs": [
        {
          "output_type": "execute_result",
          "data": {
            "text/html": [
              "<div>\n",
              "<style scoped>\n",
              "    .dataframe tbody tr th:only-of-type {\n",
              "        vertical-align: middle;\n",
              "    }\n",
              "\n",
              "    .dataframe tbody tr th {\n",
              "        vertical-align: top;\n",
              "    }\n",
              "\n",
              "    .dataframe thead th {\n",
              "        text-align: right;\n",
              "    }\n",
              "</style>\n",
              "<table border=\"1\" class=\"dataframe\">\n",
              "  <thead>\n",
              "    <tr style=\"text-align: right;\">\n",
              "      <th></th>\n",
              "      <th>topic_idx</th>\n",
              "      <th>c_title</th>\n",
              "    </tr>\n",
              "  </thead>\n",
              "  <tbody>\n",
              "    <tr>\n",
              "      <th>0</th>\n",
              "      <td>4</td>\n",
              "      <td>인천 핀란드 항공기 결항 휴가철 여행객 분통</td>\n",
              "    </tr>\n",
              "    <tr>\n",
              "      <th>1</th>\n",
              "      <td>4</td>\n",
              "      <td>실리콘밸리 넘어서겠다 구글 number조원 들여 미국전역 거점화</td>\n",
              "    </tr>\n",
              "    <tr>\n",
              "      <th>2</th>\n",
              "      <td>4</td>\n",
              "      <td>이란 외무 긴장완화 해결책은 미국이 경제전쟁 멈추는 것</td>\n",
              "    </tr>\n",
              "    <tr>\n",
              "      <th>3</th>\n",
              "      <td>4</td>\n",
              "      <td>nyt 클린턴 측근한국기업 특수관계 조명 공과 사 맞물려종합</td>\n",
              "    </tr>\n",
              "    <tr>\n",
              "      <th>4</th>\n",
              "      <td>4</td>\n",
              "      <td>시진핑 트럼프에 중미 무역협상 조속 타결 희망</td>\n",
              "    </tr>\n",
              "    <tr>\n",
              "      <th>...</th>\n",
              "      <td>...</td>\n",
              "      <td>...</td>\n",
              "    </tr>\n",
              "    <tr>\n",
              "      <th>91303</th>\n",
              "      <td>1</td>\n",
              "      <td>kb금융의 미국 ib스틸과의 제휴</td>\n",
              "    </tr>\n",
              "    <tr>\n",
              "      <th>91304</th>\n",
              "      <td>2</td>\n",
              "      <td>서울시교육청에서 새로운 코로나 개장 연기 및 폐쇄 심사</td>\n",
              "    </tr>\n",
              "    <tr>\n",
              "      <th>91305</th>\n",
              "      <td>1</td>\n",
              "      <td>게시판에서 열린 number년 키움증권 실제 투자대회</td>\n",
              "    </tr>\n",
              "    <tr>\n",
              "      <th>91306</th>\n",
              "      <td>2</td>\n",
              "      <td>배기동 국립중앙박물관장</td>\n",
              "    </tr>\n",
              "    <tr>\n",
              "      <th>91307</th>\n",
              "      <td>2</td>\n",
              "      <td>다음 달 number일 number 대한민국 인터넷 저널리스트 어워드 특별상 김성후</td>\n",
              "    </tr>\n",
              "  </tbody>\n",
              "</table>\n",
              "<p>91308 rows × 2 columns</p>\n",
              "</div>"
            ],
            "text/plain": [
              "       topic_idx                                         c_title\n",
              "0              4                        인천 핀란드 항공기 결항 휴가철 여행객 분통\n",
              "1              4             실리콘밸리 넘어서겠다 구글 number조원 들여 미국전역 거점화\n",
              "2              4                  이란 외무 긴장완화 해결책은 미국이 경제전쟁 멈추는 것\n",
              "3              4               nyt 클린턴 측근한국기업 특수관계 조명 공과 사 맞물려종합\n",
              "4              4                       시진핑 트럼프에 중미 무역협상 조속 타결 희망\n",
              "...          ...                                             ...\n",
              "91303          1                              kb금융의 미국 ib스틸과의 제휴\n",
              "91304          2                  서울시교육청에서 새로운 코로나 개장 연기 및 폐쇄 심사\n",
              "91305          1                   게시판에서 열린 number년 키움증권 실제 투자대회\n",
              "91306          2                                    배기동 국립중앙박물관장\n",
              "91307          2  다음 달 number일 number 대한민국 인터넷 저널리스트 어워드 특별상 김성후\n",
              "\n",
              "[91308 rows x 2 columns]"
            ]
          },
          "metadata": {
            "tags": []
          },
          "execution_count": 11
        }
      ]
    },
    {
      "cell_type": "code",
      "metadata": {
        "id": "4bYfpXXE5Tea"
      },
      "source": [
        "tokenizer = KoBertTokenizer.from_pretrained('monologg/kobert')"
      ],
      "execution_count": null,
      "outputs": []
    },
    {
      "cell_type": "code",
      "metadata": {
        "colab": {
          "base_uri": "https://localhost:8080/",
          "height": 645
        },
        "id": "ayZdkh3jwG_6",
        "outputId": "14aaed2b-decb-4e13-9ac2-4044ee67191e"
      },
      "source": [
        "# 각 문장을 BertTokenizer를 통해 하위 토큰으로 분류한 개수를 분석\n",
        "train_bert_token_counts = train_augm['c_title'].apply(lambda x : len(tokenizer.tokenize(x)))\n",
        "\n",
        "plt.figure(figsize=(15,10))\n",
        "plt.hist(train_bert_token_counts, range=[0,40],density=True, facecolor='r',  label='train')\n",
        "plt.title('Distribution of tokens count in sentence', fontsize=15)\n",
        "plt.legend()\n",
        "plt.xlabel('Number of characters', fontsize=15)\n",
        "plt.ylabel('Probability', fontsize=15)"
      ],
      "execution_count": null,
      "outputs": [
        {
          "output_type": "execute_result",
          "data": {
            "text/plain": [
              "Text(0, 0.5, 'Probability')"
            ]
          },
          "metadata": {
            "tags": []
          },
          "execution_count": 13
        },
        {
          "output_type": "display_data",
          "data": {
            "image/png": "[encoded data removed]",
            "text/plain": [
              "<Figure size 1080x720 with 1 Axes>"
            ]
          },
          "metadata": {
            "tags": [],
            "needs_background": "light"
          }
        }
      ]
    },
    {
      "cell_type": "code",
      "metadata": {
        "colab": {
          "base_uri": "https://localhost:8080/"
        },
        "id": "VjNWdvxFwOnZ",
        "outputId": "cefe96c6-e98b-4585-d1f6-60c30f9056dd"
      },
      "source": [
        "print('문장 tokens 개수 최댓값: {}'.format(np.max(train_bert_token_counts)))\n",
        "print('문장 tokens 개수 평균값: {:.2f}'.format(np.mean(train_bert_token_counts)))\n",
        "print('문장 tokens 개수 표준편차: {:.2f}'.format(np.std(train_bert_token_counts)))\n",
        "print('문장 tokens 개수 중간값: {}'.format(np.median(train_bert_token_counts)))\n",
        "print('문장 tokens 개수 제 1사분위: {}'.format(np.percentile(train_bert_token_counts, 25)))\n",
        "print('문장 tokens 개수 제 3사분위: {}'.format(np.percentile(train_bert_token_counts, 75)))\n",
        "print('문장 tokens 개수 99퍼센트: {}'.format(np.percentile(train_bert_token_counts, 99)))"
      ],
      "execution_count": null,
      "outputs": [
        {
          "output_type": "stream",
          "text": [
            "문장 tokens 개수 최댓값: 55\n",
            "문장 tokens 개수 평균값: 17.26\n",
            "문장 tokens 개수 표준편차: 5.64\n",
            "문장 tokens 개수 중간값: 17.0\n",
            "문장 tokens 개수 제 1사분위: 13.0\n",
            "문장 tokens 개수 제 3사분위: 21.0\n",
            "문장 tokens 개수 99퍼센트: 33.0\n"
          ],
          "name": "stdout"
        }
      ]
    },
    {
      "cell_type": "code",
      "metadata": {
        "colab": {
          "base_uri": "https://localhost:8080/",
          "height": 456
        },
        "id": "XQTVrcw5wWYG",
        "outputId": "dbe5a7c6-4dc4-427b-a8d1-0bc31b6585e1"
      },
      "source": [
        "# 데이터의 길이를 나타내는 Boxplot\n",
        "plt.figure(figsize=(12, 5))\n",
        "\n",
        "plt.boxplot(\n",
        "            train_bert_token_counts, \n",
        "            labels=['counts'], \n",
        "            showmeans=True\n",
        "            )"
      ],
      "execution_count": null,
      "outputs": [
        {
          "output_type": "execute_result",
          "data": {
            "text/plain": [
              "{'boxes': [<matplotlib.lines.Line2D at 0x7f8f73844550>],\n",
              " 'caps': [<matplotlib.lines.Line2D at 0x7f8f73844890>,\n",
              "  <matplotlib.lines.Line2D at 0x7f8f7384ba90>],\n",
              " 'fliers': [<matplotlib.lines.Line2D at 0x7f8f73855ad0>],\n",
              " 'means': [<matplotlib.lines.Line2D at 0x7f8f7384b850>],\n",
              " 'medians': [<matplotlib.lines.Line2D at 0x7f8f7384b310>],\n",
              " 'whiskers': [<matplotlib.lines.Line2D at 0x7f8f73896c10>,\n",
              "  <matplotlib.lines.Line2D at 0x7f8f73844fd0>]}"
            ]
          },
          "metadata": {
            "tags": []
          },
          "execution_count": 16
        },
        {
          "output_type": "display_data",
          "data": {
            "image/png": "[encoded data removed]",
            "text/plain": [
              "<Figure size 864x360 with 1 Axes>"
            ]
          },
          "metadata": {
            "tags": [],
            "needs_background": "light"
          }
        }
      ]
    },
    {
      "cell_type": "code",
      "metadata": {
        "id": "2YqTZBolw3HL"
      },
      "source": [
        "model_name = 'monologg/kobert'\n",
        "SEED_NUM = 977\n",
        "tf.random.set_seed(SEED_NUM)\n",
        "np.random.seed(SEED_NUM)\n",
        "BATCH_SIZE = 256\n",
        "NUM_EPOCHS = 10\n",
        "VALID_SPLIT = 0.2\n",
        "MAX_LEN = 36\n",
        "NUM_CLASS = 7\n",
        "K_SPLIT = 3\n",
        "# 이상치 데이터로인해 평균이 급격히 올라갈수 있기에 EDA분석을 통해 적절히 정해야함 평균값이던 중간값이던 3사분위 값이던\n",
        "# EDA를 통해 이상치 데이터가 없으면 최대값이용"
      ],
      "execution_count": null,
      "outputs": []
    },
    {
      "cell_type": "code",
      "metadata": {
        "id": "p_xHB5wRmoS9"
      },
      "source": [
        "\n",
        "\n",
        "# BERT에 필요한 입력값은 총 3개\n",
        "# input_ids : 문장을 tokenize해서 index로 변환\n",
        "# attention_mask : 1은 attention에 영향을 받음, 0은 영향을 받지 않음\n",
        "# token_type_ids : 0과 1로 문장의 토큰 값을 분리\n",
        "\n",
        "# special token 역할\n",
        "# [UNK] : 모르는 단어에 대한 token\n",
        "# [MASK] : 마스크 token, 사전학습(Pre-training)에서 활용\n",
        "# [PAD] : 최대 길이를 맞추는 용도\n",
        "# [SEP] : 문장의 종결을 알림\n",
        "# [CLS] : 문장의 시작을 알림\n",
        "\n",
        "def bert_tokenizer(sent, MAX_LEN):\n",
        "\n",
        "    encoded_dict = tokenizer.encode_plus(\n",
        "        \n",
        "        text = sent,\n",
        "        add_special_tokens = True, # True : 토큰 시작점에 [CLS] 토큰과 토큰의 마지막에 [SEP]토큰을 붙임\n",
        "        max_length = MAX_LEN, # MAX_LEN 최대 길이에 따라 문장의 길이를 맞추는 작업을 진행 ; MAX_LEN보다 길면 truncate\n",
        "        pad_to_max_length = True, # True : MAX_LEN의 길이에 미치지 못하는 문장에 padding을 적용 **padding : 길이를 일괄적으로 맞춰주는 것\n",
        "                                                     # 각 데이터의 길이가 다를경우 모델에 적용할 수 없음 그렇기에 padding진행\n",
        "                                         \n",
        "        return_attention_mask = True, # True : BERT에 필요한 입력값 중 attention_mask를 생성\n",
        "        truncation = True \n",
        "        # encoded_plus 과정 중 token_type으로 문장이 1개면 0, 문장이 2개면 0과 1로 구분\n",
        "    )\n",
        "\n",
        "\n",
        "    input_id = encoded_dict['input_ids'] # BERT 입력값 중 하나인 input_ids\n",
        "    attention_mask = encoded_dict['attention_mask'] # attention_mask ; 단순히 padding과 non-padding을 구분\n",
        "    token_type_id = encoded_dict['token_type_ids'] # 두개의 문장 구분용\n",
        "\n",
        "\n",
        "    return input_id, attention_mask, token_type_id # 각각의 BERT 입력값들을 encoded_dict를 한 결과를 return"
      ],
      "execution_count": null,
      "outputs": []
    },
    {
      "cell_type": "code",
      "metadata": {
        "id": "l9u8sDob0RJv",
        "colab": {
          "base_uri": "https://localhost:8080/"
        },
        "outputId": "94e06e7b-6d70-41b3-f9c9-79e45399322e"
      },
      "source": [
        "print(tokenizer.all_special_tokens) # BERT special tokens\n",
        "print(tokenizer.all_special_ids)  # BERT special tokens의 index"
      ],
      "execution_count": null,
      "outputs": [
        {
          "output_type": "stream",
          "text": [
            "['[UNK]', '[SEP]', '[PAD]', '[CLS]', '[MASK]']\n",
            "[0, 3, 1, 2, 4]\n"
          ],
          "name": "stdout"
        }
      ]
    },
    {
      "cell_type": "code",
      "metadata": {
        "colab": {
          "base_uri": "https://localhost:8080/",
          "height": 419
        },
        "id": "kxLUe79tqIIc",
        "outputId": "d2834543-0476-4af7-d72f-fa1e3ade919b"
      },
      "source": [
        "train_augm"
      ],
      "execution_count": null,
      "outputs": [
        {
          "output_type": "execute_result",
          "data": {
            "text/html": [
              "<div>\n",
              "<style scoped>\n",
              "    .dataframe tbody tr th:only-of-type {\n",
              "        vertical-align: middle;\n",
              "    }\n",
              "\n",
              "    .dataframe tbody tr th {\n",
              "        vertical-align: top;\n",
              "    }\n",
              "\n",
              "    .dataframe thead th {\n",
              "        text-align: right;\n",
              "    }\n",
              "</style>\n",
              "<table border=\"1\" class=\"dataframe\">\n",
              "  <thead>\n",
              "    <tr style=\"text-align: right;\">\n",
              "      <th></th>\n",
              "      <th>topic_idx</th>\n",
              "      <th>c_title</th>\n",
              "    </tr>\n",
              "  </thead>\n",
              "  <tbody>\n",
              "    <tr>\n",
              "      <th>0</th>\n",
              "      <td>4</td>\n",
              "      <td>인천 핀란드 항공기 결항 휴가철 여행객 분통</td>\n",
              "    </tr>\n",
              "    <tr>\n",
              "      <th>1</th>\n",
              "      <td>4</td>\n",
              "      <td>실리콘밸리 넘어서겠다 구글 number조원 들여 미국전역 거점화</td>\n",
              "    </tr>\n",
              "    <tr>\n",
              "      <th>2</th>\n",
              "      <td>4</td>\n",
              "      <td>이란 외무 긴장완화 해결책은 미국이 경제전쟁 멈추는 것</td>\n",
              "    </tr>\n",
              "    <tr>\n",
              "      <th>3</th>\n",
              "      <td>4</td>\n",
              "      <td>nyt 클린턴 측근한국기업 특수관계 조명 공과 사 맞물려종합</td>\n",
              "    </tr>\n",
              "    <tr>\n",
              "      <th>4</th>\n",
              "      <td>4</td>\n",
              "      <td>시진핑 트럼프에 중미 무역협상 조속 타결 희망</td>\n",
              "    </tr>\n",
              "    <tr>\n",
              "      <th>...</th>\n",
              "      <td>...</td>\n",
              "      <td>...</td>\n",
              "    </tr>\n",
              "    <tr>\n",
              "      <th>91303</th>\n",
              "      <td>1</td>\n",
              "      <td>kb금융의 미국 ib스틸과의 제휴</td>\n",
              "    </tr>\n",
              "    <tr>\n",
              "      <th>91304</th>\n",
              "      <td>2</td>\n",
              "      <td>서울시교육청에서 새로운 코로나 개장 연기 및 폐쇄 심사</td>\n",
              "    </tr>\n",
              "    <tr>\n",
              "      <th>91305</th>\n",
              "      <td>1</td>\n",
              "      <td>게시판에서 열린 number년 키움증권 실제 투자대회</td>\n",
              "    </tr>\n",
              "    <tr>\n",
              "      <th>91306</th>\n",
              "      <td>2</td>\n",
              "      <td>배기동 국립중앙박물관장</td>\n",
              "    </tr>\n",
              "    <tr>\n",
              "      <th>91307</th>\n",
              "      <td>2</td>\n",
              "      <td>다음 달 number일 number 대한민국 인터넷 저널리스트 어워드 특별상 김성후</td>\n",
              "    </tr>\n",
              "  </tbody>\n",
              "</table>\n",
              "<p>91308 rows × 2 columns</p>\n",
              "</div>"
            ],
            "text/plain": [
              "       topic_idx                                         c_title\n",
              "0              4                        인천 핀란드 항공기 결항 휴가철 여행객 분통\n",
              "1              4             실리콘밸리 넘어서겠다 구글 number조원 들여 미국전역 거점화\n",
              "2              4                  이란 외무 긴장완화 해결책은 미국이 경제전쟁 멈추는 것\n",
              "3              4               nyt 클린턴 측근한국기업 특수관계 조명 공과 사 맞물려종합\n",
              "4              4                       시진핑 트럼프에 중미 무역협상 조속 타결 희망\n",
              "...          ...                                             ...\n",
              "91303          1                              kb금융의 미국 ib스틸과의 제휴\n",
              "91304          2                  서울시교육청에서 새로운 코로나 개장 연기 및 폐쇄 심사\n",
              "91305          1                   게시판에서 열린 number년 키움증권 실제 투자대회\n",
              "91306          2                                    배기동 국립중앙박물관장\n",
              "91307          2  다음 달 number일 number 대한민국 인터넷 저널리스트 어워드 특별상 김성후\n",
              "\n",
              "[91308 rows x 2 columns]"
            ]
          },
          "metadata": {
            "tags": []
          },
          "execution_count": 70
        }
      ]
    },
    {
      "cell_type": "code",
      "metadata": {
        "id": "Kd9LnhUgUGQl"
      },
      "source": [
        "train_inputs, validation_inputs, train_labels, validation_labels = train_test_split(train_augm, train_augm[\"topic_idx\"], \n",
        "                                                            random_state=42, test_size=0.2)"
      ],
      "execution_count": null,
      "outputs": []
    },
    {
      "cell_type": "code",
      "metadata": {
        "colab": {
          "base_uri": "https://localhost:8080/",
          "height": 419
        },
        "id": "rODrHg0AUH6q",
        "outputId": "229e9dbf-3460-4755-b96a-b4908a9c51af"
      },
      "source": [
        "train_inputs"
      ],
      "execution_count": null,
      "outputs": [
        {
          "output_type": "execute_result",
          "data": {
            "text/html": [
              "<div>\n",
              "<style scoped>\n",
              "    .dataframe tbody tr th:only-of-type {\n",
              "        vertical-align: middle;\n",
              "    }\n",
              "\n",
              "    .dataframe tbody tr th {\n",
              "        vertical-align: top;\n",
              "    }\n",
              "\n",
              "    .dataframe thead th {\n",
              "        text-align: right;\n",
              "    }\n",
              "</style>\n",
              "<table border=\"1\" class=\"dataframe\">\n",
              "  <thead>\n",
              "    <tr style=\"text-align: right;\">\n",
              "      <th></th>\n",
              "      <th>topic_idx</th>\n",
              "      <th>c_title</th>\n",
              "    </tr>\n",
              "  </thead>\n",
              "  <tbody>\n",
              "    <tr>\n",
              "      <th>26945</th>\n",
              "      <td>1</td>\n",
              "      <td>큐로홀딩스 number억원 규모 number자배정 유상증자</td>\n",
              "    </tr>\n",
              "    <tr>\n",
              "      <th>47240</th>\n",
              "      <td>3</td>\n",
              "      <td>봄꽃을 보러 한국에 온다 홍콩으로의 관광객 유치 속도</td>\n",
              "    </tr>\n",
              "    <tr>\n",
              "      <th>79533</th>\n",
              "      <td>0</td>\n",
              "      <td>삼성sds홈iot의 스마트 월드패드 개발</td>\n",
              "    </tr>\n",
              "    <tr>\n",
              "      <th>6682</th>\n",
              "      <td>1</td>\n",
              "      <td>인공지능 a생명 달러 강세 전망에 달러보험 판매 급증</td>\n",
              "    </tr>\n",
              "    <tr>\n",
              "      <th>20285</th>\n",
              "      <td>5</td>\n",
              "      <td>축구 스타 출신 호나우지뉴 정계 진출 우파 정당서 영입 추진</td>\n",
              "    </tr>\n",
              "    <tr>\n",
              "      <th>...</th>\n",
              "      <td>...</td>\n",
              "      <td>...</td>\n",
              "    </tr>\n",
              "    <tr>\n",
              "      <th>6265</th>\n",
              "      <td>4</td>\n",
              "      <td>런던지하철 number월부터 number시간 운행 런던시장 야간경제 활성화</td>\n",
              "    </tr>\n",
              "    <tr>\n",
              "      <th>54886</th>\n",
              "      <td>3</td>\n",
              "      <td>충북 오후부터 유명한 산과 놀이공원인 한산</td>\n",
              "    </tr>\n",
              "    <tr>\n",
              "      <th>76820</th>\n",
              "      <td>6</td>\n",
              "      <td>봉하마을의 김부겸 의원의 게스트북</td>\n",
              "    </tr>\n",
              "    <tr>\n",
              "      <th>860</th>\n",
              "      <td>6</td>\n",
              "      <td>천정배박주선 정동영 포함 number자 연대 추진 합의종합</td>\n",
              "    </tr>\n",
              "    <tr>\n",
              "      <th>15795</th>\n",
              "      <td>3</td>\n",
              "      <td>내일 오후 늦게부터 제주도 장맛비 최대 number 폭우</td>\n",
              "    </tr>\n",
              "  </tbody>\n",
              "</table>\n",
              "<p>73046 rows × 2 columns</p>\n",
              "</div>"
            ],
            "text/plain": [
              "       topic_idx                                    c_title\n",
              "26945          1           큐로홀딩스 number억원 규모 number자배정 유상증자\n",
              "47240          3              봄꽃을 보러 한국에 온다 홍콩으로의 관광객 유치 속도\n",
              "79533          0                     삼성sds홈iot의 스마트 월드패드 개발\n",
              "6682           1              인공지능 a생명 달러 강세 전망에 달러보험 판매 급증\n",
              "20285          5          축구 스타 출신 호나우지뉴 정계 진출 우파 정당서 영입 추진\n",
              "...          ...                                        ...\n",
              "6265           4  런던지하철 number월부터 number시간 운행 런던시장 야간경제 활성화\n",
              "54886          3                    충북 오후부터 유명한 산과 놀이공원인 한산\n",
              "76820          6                         봉하마을의 김부겸 의원의 게스트북\n",
              "860            6           천정배박주선 정동영 포함 number자 연대 추진 합의종합\n",
              "15795          3            내일 오후 늦게부터 제주도 장맛비 최대 number 폭우\n",
              "\n",
              "[73046 rows x 2 columns]"
            ]
          },
          "metadata": {
            "tags": []
          },
          "execution_count": 72
        }
      ]
    },
    {
      "cell_type": "code",
      "metadata": {
        "colab": {
          "base_uri": "https://localhost:8080/"
        },
        "id": "pAJ4suGcUcRh",
        "outputId": "f7a11d04-2402-4fb4-e39f-b51a7ff55e47"
      },
      "source": [
        "for i in train_labels:\n",
        "    print(i)\n",
        "    break"
      ],
      "execution_count": null,
      "outputs": [
        {
          "output_type": "stream",
          "text": [
            "1\n"
          ],
          "name": "stdout"
        }
      ]
    },
    {
      "cell_type": "code",
      "metadata": {
        "id": "s9ECQnRilqoh"
      },
      "source": [
        "\n",
        "input_ids = []\n",
        "attention_masks = []\n",
        "token_type_ids = []\n",
        "train_data_labels = []\n",
        "\n",
        "# bert_tokenizer를 이용하여 encoding진행\n",
        "for train_sent, train_label in tqdm(zip(train_inputs[\"c_title\"], train_labels)): \n",
        "    try:\n",
        "\n",
        "        input_id, attention_mask, token_type_id = bert_tokenizer(train_sent, MAX_LEN)\n",
        "        \n",
        "        input_ids.append(input_id)\n",
        "        attention_masks.append(attention_mask)\n",
        "        token_type_ids.append(token_type_id)\n",
        "        train_data_labels.append(train_label)\n",
        "        \n",
        "    except Exception as e:\n",
        "        print(e)\n",
        "        print(train_sent)\n",
        "        pass\n",
        "\n",
        "\n",
        "train_news_input_ids = np.array(input_ids, dtype=int)\n",
        "train_news_attention_masks = np.array(attention_masks, dtype=int)\n",
        "train_news_type_ids = np.array(token_type_ids, dtype=int)\n",
        "\n",
        "# 최종 출력값은 numpy로 변환한 후 tuple 형태로 묶어서 저장\n",
        "train_news_inputs = (train_news_input_ids, train_news_attention_masks, train_news_type_ids)\n",
        "\n",
        "train_data_labels = np.asarray(train_data_labels, dtype=np.int32) # 정답 tokenizing 리스트\n"
      ],
      "execution_count": null,
      "outputs": []
    },
    {
      "cell_type": "code",
      "metadata": {
        "id": "Tn-o-vOjRMOX"
      },
      "source": [
        "\n",
        "valid_input_ids = []\n",
        "valid_attention_masks = []\n",
        "valid_token_type_ids = []\n",
        "valid_data_labels = []\n",
        "\n",
        "# bert_tokenizer를 이용하여 encoding진행\n",
        "for train_sent, train_label in tqdm(zip(validation_inputs[\"c_title\"], validation_labels)): \n",
        "    try:\n",
        "\n",
        "        input_id, attention_mask, token_type_id = bert_tokenizer(train_sent, MAX_LEN)\n",
        "        \n",
        "        valid_input_ids.append(input_id)\n",
        "        valid_attention_masks.append(attention_mask)\n",
        "        valid_token_type_ids.append(token_type_id)\n",
        "        valid_data_labels.append(train_label)\n",
        "        \n",
        "    except Exception as e:\n",
        "        print(e)\n",
        "        print(train_sent)\n",
        "        pass\n",
        "\n",
        "\n",
        "valid_news_input_ids = np.array(valid_input_ids, dtype=int)\n",
        "valid_news_attention_masks = np.array(valid_attention_masks, dtype=int)\n",
        "valid_news_type_ids = np.array(valid_token_type_ids, dtype=int)\n",
        "\n",
        "# 최종 출력값은 numpy로 변환한 후 tuple 형태로 묶어서 저장\n",
        "valid_news_inputs = (valid_news_input_ids, valid_news_attention_masks, valid_news_type_ids)\n",
        "\n",
        "valid_data_labels = np.asarray(valid_data_labels, dtype=np.int32) # 정답 tokenizing 리스트\n"
      ],
      "execution_count": null,
      "outputs": []
    },
    {
      "cell_type": "code",
      "metadata": {
        "id": "mJJFYoB4oSG1"
      },
      "source": [
        "# bert_tokenizer를 통해 실제결과가 나오는지 테스트\n",
        "INPUT_id = train_news_input_ids[30]\n",
        "ATTENTION_mask = train_news_attention_masks[30]\n",
        "TOKEN_TYPE_id = train_news_type_ids[30]\n",
        "\n",
        "print(INPUT_id)\n",
        "print(ATTENTION_mask)\n",
        "print(TOKEN_TYPE_id)\n",
        "print(tokenizer.decode(INPUT_id))"
      ],
      "execution_count": null,
      "outputs": []
    },
    {
      "cell_type": "code",
      "metadata": {
        "id": "8xD_SLf4o_rY"
      },
      "source": [
        "class TFBertClassifier(tf.keras.Model): # pre_trained된 bert model을 불러와 그 위에 완전연결층 1층을 쌓은 구조\n",
        "                                                              # class로 모델을 구현하려면 tf.keras.Model을 상속받아야 함\n",
        "    # TFBertClassifier생성할 때마다 __init__실행                                                          \n",
        "    def __init__(self, model_name, dir_path, num_class): # model_name : 인자로 받아 활용할 모델 이름, dir_path : 모델이 저장된 위치\n",
        "                                                                                            # num_class : 원하는 정답의 개수(감성분석인 경우 2; 긍정, 부정)\n",
        "        # super함수를 통해 부모 클래스(tf.keras.Model)에 있는 __init__함수 호출   \n",
        "        # tf.keras.Model 클래스를 상속받는 경우 super함수를 통해 부모 클래스에 __init__ 함수의 인자에 모델이름을 전달하면\n",
        "        # tf.keras.Model을 상속받은 모든 자식은 해당 모델의 이름으로 공통적으로 사용\n",
        "        super(TFBertClassifier, self).__init__()\n",
        "\n",
        "         \n",
        "        self.bert = TFBertModel.from_pretrained(model_name, from_pt=True) # 기존에 pre_trained 한 부분이 로드됨\n",
        "                                                                                                                                    \n",
        "        self.dropout = tf.keras.layers.Dropout(self.bert.config.hidden_dropout_prob) # 과적합을 방지하기 위한 layer\n",
        "        # self.classifier을 통해 topic_idx를 전부 분류\n",
        "        self.classifier = tf.keras.layers.Dense(num_class,\n",
        "                                                                    kernel_initializer=tf.keras.initializers.TruncatedNormal(self.bert.config.initializer_range), \n",
        "                                                                    name=\"classifier\")  # 완전연결층 1층\n",
        "\n",
        "    def call(self, inputs, attention_mask=None, token_type_ids=None, training=False): \n",
        "        #__init__에서 선언한 내용을 실제 입력을 받고 실행하는 call 메서드임\n",
        "        # call함수를 호출하면 입력한 inputs을 통해 마지막에 예측값을 출력\n",
        "        # 영화 리뷰 text를 inputs을 통해 받음\n",
        "        # output 값 : sequence_output, pooled_output, (hidden_states), (attentions)\n",
        "        # sequence_output : sequence 길이의 출력을 모두 입력으로 받음; 이 벡터의 차원 ' 임베딩 크기 * 최대문장길이'\n",
        "        outputs = self.bert(inputs, attention_mask=attention_mask, token_type_ids=token_type_ids) # bert를 통해 outputs로 결과값을 추출\n",
        "        pooled_output = outputs[1] # pooled_output\n",
        "        pooled_output = self.dropout(pooled_output, training=training)\n",
        "        logits = self.classifier(pooled_output) # self.classifier를 통해 완전연결층을 활용하여 최종적으로 self.num_labels 개수에 맞는 예측값을 출력\n",
        "        return logits\n",
        "\n",
        "cls_model= TFBertClassifier(model_name=model_name,\n",
        "                                                dir_path='bert_ckpt', # ???\n",
        "                                                num_class=NUM_CLASS) # num_class 바꿔야함\n",
        "\n"
      ],
      "execution_count": null,
      "outputs": []
    },
    {
      "cell_type": "markdown",
      "metadata": {
        "id": "ec3RNG4kueni"
      },
      "source": [
        "### Adam최적화와 손실값, 모델 정확도 정의"
      ]
    },
    {
      "cell_type": "code",
      "metadata": {
        "id": "Jcs1-P5Ot92d"
      },
      "source": [
        "# optimizer = tf.keras.optimizers.Adam(learning_rate=3e-5)\n",
        "# optimizer = tf.keras.optimizers.Nadam(learning_rate=10e-5, decay=1e-5)\n",
        "optimizer = tfa.optimizers.RectifiedAdam(learning_rate=5.0e-5, total_steps = 2344*4, warmup_proportion=0.1, min_lr=1e-5, epsilon=1e-08, clipnorm=1.0)\n",
        "loss = tf.keras.losses.SparseCategoricalCrossentropy(from_logits=True)\n",
        "metric = tf.keras.metrics.SparseCategoricalAccuracy('accuracy')\n",
        "\n",
        "cls_model.compile(optimizer=optimizer,\n",
        "                                loss=loss,\n",
        "                                metrics=[metric])"
      ],
      "execution_count": null,
      "outputs": []
    },
    {
      "cell_type": "code",
      "metadata": {
        "id": "4DvDK6ghupe0",
        "colab": {
          "base_uri": "https://localhost:8080/"
        },
        "outputId": "ead0c53f-710d-4755-f1fb-d94f7af5a4c6"
      },
      "source": [
        "# 모델이 어느 시점이 되면 학습평가점수는 높아지는데 검증평가 점수가 낮아지는 overfitting현상이 발생하거나\n",
        "# 학습도중 특정 상태의 모델에서 하이퍼파라미터를 바꿔서 다시 학습을 진행할 수도 있음\n",
        "# => tensowflow.keras.callback 모듈의 EarlyStopping, ModelCheckpoint 클래스를 활용하여 해결\n",
        "\n",
        "\n",
        "# 특정 epoch에서 현재 검증 평가 점수가 이전 검증 평가 점수보다 일정수치 미만으로 낮아지면 학습을 멈추는 역할\n",
        "# 학습 중 overfitting을 방지한다는 것\n",
        "es_callback = EarlyStopping(\n",
        "                                monitor='val_loss', # 'val_accuracy'를 통해 검증 평가 점수로 활용한다는 것\n",
        "                                mode='min',\n",
        "                                min_delta=0.0001, # 활용한 평가 점수에 따라 현재 점수가 이전 점수에 비해 0.0001 보다 낮아지면 overfitting현상이 발생한다고 생각하고 학습을 멈춤\n",
        "                                patience=5,\n",
        "                                baseline=0.4\n",
        "                                 ) # 검증 평가 점수가 이전 최고 점수보다 높아지지 않는 epoch수가 patience에 입력한 횟수를 넘어가면 학습을 멈춤\n",
        "\n",
        "# min_delta: the threshold that triggers the termination (acc should at least improve 0.0001)\n",
        "# patience: no improvment epochs (patience = 1, 1번 이상 상승이 없으면 종료)\n",
        "\n",
        "\n",
        "\n",
        "DATA_OUT_PATH = '/content/drive/MyDrive/best_model'\n",
        "# 오류시 DATA_OUT_PATH = '/content/gdrive/MyDrive/bert_data_out'\n",
        "\n",
        "checkpoint_path = DATA_OUT_PATH +  '/best_modeling.ckpt'\n",
        "checkpoint_dir = os.path.dirname(checkpoint_path)\n",
        "\n",
        "# Create path if exists\n",
        "if os.path.exists(checkpoint_dir):\n",
        "    print(\"{} -- Folder already exists \\n\".format(checkpoint_dir))\n",
        "else:\n",
        "    os.makedirs(checkpoint_dir, exist_ok=True)\n",
        "    print(\"{} -- Folder create complete \\n\".format(checkpoint_dir))\n",
        "\n",
        "# Epoch마다 모델을 저장하게끔 함(학습중 모델을 저장한다는 것)    \n",
        "cp_callback = ModelCheckpoint(\n",
        "    checkpoint_path, \n",
        "    monitor='val_loss', # save_best_only를 하는 평가기준\n",
        "    verbose=1, \n",
        "    save_best_only=True, # True : 가장 성능이 좋은 모델만 저장한다는 것\n",
        "    save_weights_only=True # True : 모델 그래프를 전부 저장하는 것이 아닌 모델 가중치만 저장한다는 것\n",
        "    )\n"
      ],
      "execution_count": null,
      "outputs": [
        {
          "output_type": "stream",
          "text": [
            "/content/drive/MyDrive/best_model -- Folder already exists \n",
            "\n"
          ],
          "name": "stdout"
        }
      ]
    },
    {
      "cell_type": "code",
      "metadata": {
        "id": "d_VxlFjOAC1h",
        "colab": {
          "base_uri": "https://localhost:8080/"
        },
        "outputId": "b14f576a-467a-4965-fd94-4f42d11c598d"
      },
      "source": [
        "\n",
        "# 학습과 eval 시작\n",
        "history = cls_model.fit(train_news_inputs, train_data_labels, \n",
        "                        epochs=NUM_EPOCHS,\n",
        "                        batch_size=BATCH_SIZE,\n",
        "                        validation_split = VALID_SPLIT, # 학습데이터에서 일정한 비율로 무작위로 나눔\n",
        "                        callbacks=[es_callback, cp_callback]\n",
        "                        ) # 검증데이터셋이 있을경우 파라미터로 validation_data = 로 데이터셋을 지정한 다음 validation_split파라미터를 지운다."
      ],
      "execution_count": null,
      "outputs": [
        {
          "output_type": "stream",
          "text": [
            "Epoch 1/10\n",
            "229/229 [==============================] - 298s 1s/step - loss: 1.8205 - accuracy: 0.2827 - val_loss: 1.0566 - val_accuracy: 0.7864\n",
            "\n",
            "Epoch 00001: val_loss improved from inf to 1.05664, saving model to /content/drive/MyDrive/best_model/best_modeling.ckpt\n",
            "Epoch 2/10\n",
            "229/229 [==============================] - 244s 1s/step - loss: 0.5926 - accuracy: 0.8336 - val_loss: 0.4231 - val_accuracy: 0.8617\n",
            "\n",
            "Epoch 00002: val_loss improved from 1.05664 to 0.42313, saving model to /content/drive/MyDrive/best_model/best_modeling.ckpt\n",
            "Epoch 3/10\n",
            "229/229 [==============================] - 244s 1s/step - loss: 0.3963 - accuracy: 0.8701 - val_loss: 0.3813 - val_accuracy: 0.8726\n",
            "\n",
            "Epoch 00003: val_loss improved from 0.42313 to 0.38130, saving model to /content/drive/MyDrive/best_model/best_modeling.ckpt\n",
            "Epoch 4/10\n",
            "229/229 [==============================] - 244s 1s/step - loss: 0.3382 - accuracy: 0.8862 - val_loss: 0.3647 - val_accuracy: 0.8772\n",
            "\n",
            "Epoch 00004: val_loss improved from 0.38130 to 0.36465, saving model to /content/drive/MyDrive/best_model/best_modeling.ckpt\n",
            "Epoch 5/10\n",
            "229/229 [==============================] - 244s 1s/step - loss: 0.2812 - accuracy: 0.9053 - val_loss: 0.3529 - val_accuracy: 0.8803\n",
            "\n",
            "Epoch 00005: val_loss improved from 0.36465 to 0.35290, saving model to /content/drive/MyDrive/best_model/best_modeling.ckpt\n",
            "Epoch 6/10\n",
            "229/229 [==============================] - 244s 1s/step - loss: 0.2301 - accuracy: 0.9225 - val_loss: 0.3596 - val_accuracy: 0.8818\n",
            "\n",
            "Epoch 00006: val_loss did not improve from 0.35290\n",
            "Epoch 7/10\n",
            "229/229 [==============================] - 244s 1s/step - loss: 0.1727 - accuracy: 0.9426 - val_loss: 0.3748 - val_accuracy: 0.8851\n",
            "\n",
            "Epoch 00007: val_loss did not improve from 0.35290\n",
            "Epoch 8/10\n",
            "229/229 [==============================] - 244s 1s/step - loss: 0.1323 - accuracy: 0.9556 - val_loss: 0.3881 - val_accuracy: 0.8854\n",
            "\n",
            "Epoch 00008: val_loss did not improve from 0.35290\n",
            "Epoch 9/10\n",
            "229/229 [==============================] - 244s 1s/step - loss: 0.0970 - accuracy: 0.9681 - val_loss: 0.4094 - val_accuracy: 0.8862\n",
            "\n",
            "Epoch 00009: val_loss did not improve from 0.35290\n",
            "Epoch 10/10\n",
            "229/229 [==============================] - 244s 1s/step - loss: 0.0882 - accuracy: 0.9696 - val_loss: 0.4462 - val_accuracy: 0.8874\n",
            "\n",
            "Epoch 00010: val_loss did not improve from 0.35290\n"
          ],
          "name": "stdout"
        }
      ]
    },
    {
      "cell_type": "code",
      "metadata": {
        "colab": {
          "base_uri": "https://localhost:8080/"
        },
        "id": "-rZN76NMYxYt",
        "outputId": "814e3e28-10bf-48dd-d301-5236325a921f"
      },
      "source": [
        "score = cls_model.evaluate(valid_news_inputs, valid_data_labels, batch_size=128)"
      ],
      "execution_count": null,
      "outputs": [
        {
          "output_type": "stream",
          "text": [
            "143/143 [==============================] - 24s 170ms/step - loss: 0.4616 - accuracy: 0.8850\n"
          ],
          "name": "stdout"
        }
      ]
    },
    {
      "cell_type": "code",
      "metadata": {
        "colab": {
          "base_uri": "https://localhost:8080/"
        },
        "id": "17Na9OIxnoTy",
        "outputId": "b07d45f7-33fd-47bb-c29f-7ac2a5b3ac80"
      },
      "source": [
        "print('valid loss:{:.5f} / valid acc:{:.5f}'.format(score[0], score[1]))"
      ],
      "execution_count": null,
      "outputs": [
        {
          "output_type": "stream",
          "text": [
            "valid loss:0.46162 / valid acc:0.88495\n"
          ],
          "name": "stdout"
        }
      ]
    },
    {
      "cell_type": "markdown",
      "metadata": {
        "id": "-_I8nv2mTwF9"
      },
      "source": [
        "## 모델 Test"
      ]
    },
    {
      "cell_type": "code",
      "metadata": {
        "id": "T2IayBqpFefT",
        "colab": {
          "base_uri": "https://localhost:8080/"
        },
        "outputId": "7543e95e-c48e-45a2-e4ac-c22e77deeb76"
      },
      "source": [
        "\n",
        "\n",
        "input_ids = []\n",
        "attention_masks = []\n",
        "token_type_ids = []\n",
        "train_data_labels = []\n",
        "\n",
        "# bert_tokenizer를 이용하여 encoding진행\n",
        "for test_sent in test[\"c_title\"]: \n",
        "    try:\n",
        "\n",
        "        input_id, attention_mask, token_type_id = bert_tokenizer(test_sent, MAX_LEN)\n",
        "        \n",
        "        input_ids.append(input_id)\n",
        "        attention_masks.append(attention_mask)\n",
        "        token_type_ids.append(token_type_id)\n",
        "        \n",
        "    except Exception as e:\n",
        "        print(e)\n",
        "        print(test_sent)\n",
        "        pass\n",
        "\n",
        "\n",
        "test_news_input_ids = np.array(input_ids, dtype=int)\n",
        "test_news_attention_masks = np.array(attention_masks, dtype=int)\n",
        "test_news_type_ids = np.array(token_type_ids, dtype=int)\n",
        "\n",
        "test_news_inputs = (test_news_input_ids, test_news_attention_masks, test_news_type_ids)\n",
        "\n",
        "\n"
      ],
      "execution_count": null,
      "outputs": [
        {
          "output_type": "stream",
          "text": [
            "/usr/local/lib/python3.7/dist-packages/transformers/tokenization_utils_base.py:1770: FutureWarning: The `pad_to_max_length` argument is deprecated and will be removed in a future version, use `padding=True` or `padding='longest'` to pad to the longest sequence in the batch, or use `padding='max_length'` to pad to a max length. In this case, you can give a specific length with `max_length` (e.g. `max_length=45`) or leave max_length to None to pad to the maximal input size of the model (e.g. 512 for Bert).\n",
            "  FutureWarning,\n"
          ],
          "name": "stderr"
        }
      ]
    },
    {
      "cell_type": "code",
      "metadata": {
        "id": "-pChpMn67Att",
        "colab": {
          "base_uri": "https://localhost:8080/"
        },
        "outputId": "7c3ab2b6-3ea8-4450-85ba-3d87a49444ed"
      },
      "source": [
        "# model.load_weights(checkpoint_filepath)\n",
        "cls_model_1 = TFBertClassifier(model_name=model_name,\n",
        "                                                dir_path='bert_ckpt', # ???\n",
        "                                                num_class=NUM_CLASS) # num_class 바꿔야함\n",
        "cls_model_1.load_weights(os.path.join(DATA_OUT_PATH,'best_modeling.ckpt')) # 오류시 '/weight.h5'\n",
        "\n"
      ],
      "execution_count": null,
      "outputs": [
        {
          "output_type": "stream",
          "text": [
            "All PyTorch model weights were used when initializing TFBertModel.\n",
            "\n",
            "All the weights of TFBertModel were initialized from the PyTorch model.\n",
            "If your task is similar to the task the model of the ckeckpoint was trained on, you can already use TFBertModel for predictions without further training.\n"
          ],
          "name": "stderr"
        },
        {
          "output_type": "execute_result",
          "data": {
            "text/plain": [
              "<tensorflow.python.training.tracking.util.CheckpointLoadStatus at 0x7f8e86398610>"
            ]
          },
          "metadata": {
            "tags": []
          },
          "execution_count": 90
        }
      ]
    },
    {
      "cell_type": "code",
      "metadata": {
        "id": "VVjAnqYDgWzL"
      },
      "source": [
        "valid_predictions = cls_model.predict(valid_news_inputs)\n",
        "true = [label for label in valid_data_labels]\n"
      ],
      "execution_count": null,
      "outputs": []
    },
    {
      "cell_type": "code",
      "metadata": {
        "colab": {
          "base_uri": "https://localhost:8080/"
        },
        "id": "p0zzwJubpBMp",
        "outputId": "e0303e10-4664-4ad0-90a3-5172de93f3b7"
      },
      "source": [
        "flat_valid = np.argmax(valid_predictions, axis = 1)\n",
        "flat_valid"
      ],
      "execution_count": null,
      "outputs": [
        {
          "output_type": "execute_result",
          "data": {
            "text/plain": [
              "array([3, 6, 2, ..., 1, 5, 6])"
            ]
          },
          "metadata": {
            "tags": []
          },
          "execution_count": 95
        }
      ]
    },
    {
      "cell_type": "code",
      "metadata": {
        "id": "xL7BSIBh1oU_"
      },
      "source": [
        "\n",
        "predictions = cls_model_1.predict(test_news_inputs)\n",
        "pred = np.argmax(predictions, axis = 1)"
      ],
      "execution_count": null,
      "outputs": []
    },
    {
      "cell_type": "code",
      "metadata": {
        "colab": {
          "base_uri": "https://localhost:8080/"
        },
        "id": "mGIFuPbXoiTm",
        "outputId": "bbff6d5d-19e6-445f-87e9-f2647e15899b"
      },
      "source": [
        "from sklearn.metrics import classification_report\n",
        "print(classification_report(flat_valid, true))"
      ],
      "execution_count": null,
      "outputs": [
        {
          "output_type": "stream",
          "text": [
            "              precision    recall  f1-score   support\n",
            "\n",
            "           0       0.84      0.85      0.85      1958\n",
            "           1       0.85      0.85      0.85      2482\n",
            "           2       0.79      0.81      0.80      2918\n",
            "           3       0.92      0.87      0.89      2490\n",
            "           4       0.91      0.94      0.92      2905\n",
            "           5       0.97      0.95      0.96      2855\n",
            "           6       0.91      0.92      0.91      2654\n",
            "\n",
            "    accuracy                           0.88     18262\n",
            "   macro avg       0.88      0.88      0.88     18262\n",
            "weighted avg       0.89      0.88      0.89     18262\n",
            "\n"
          ],
          "name": "stdout"
        }
      ]
    },
    {
      "cell_type": "code",
      "metadata": {
        "colab": {
          "base_uri": "https://localhost:8080/",
          "height": 297
        },
        "id": "P5d4qenfpeal",
        "outputId": "d97b6beb-bf1c-4671-ba04-b1d117c5b67b"
      },
      "source": [
        "flat_valid_1 = np.argmax(valid_predictions, axis = 1).flatten()\n",
        "crosstab = pd.crosstab(valid_data_labels, flat_valid_1, rownames=['real'], colnames=['pred'])\n",
        "crosstab"
      ],
      "execution_count": null,
      "outputs": [
        {
          "output_type": "execute_result",
          "data": {
            "text/html": [
              "<div>\n",
              "<style scoped>\n",
              "    .dataframe tbody tr th:only-of-type {\n",
              "        vertical-align: middle;\n",
              "    }\n",
              "\n",
              "    .dataframe tbody tr th {\n",
              "        vertical-align: top;\n",
              "    }\n",
              "\n",
              "    .dataframe thead th {\n",
              "        text-align: right;\n",
              "    }\n",
              "</style>\n",
              "<table border=\"1\" class=\"dataframe\">\n",
              "  <thead>\n",
              "    <tr style=\"text-align: right;\">\n",
              "      <th>pred</th>\n",
              "      <th>0</th>\n",
              "      <th>1</th>\n",
              "      <th>2</th>\n",
              "      <th>3</th>\n",
              "      <th>4</th>\n",
              "      <th>5</th>\n",
              "      <th>6</th>\n",
              "    </tr>\n",
              "    <tr>\n",
              "      <th>real</th>\n",
              "      <th></th>\n",
              "      <th></th>\n",
              "      <th></th>\n",
              "      <th></th>\n",
              "      <th></th>\n",
              "      <th></th>\n",
              "      <th></th>\n",
              "    </tr>\n",
              "  </thead>\n",
              "  <tbody>\n",
              "    <tr>\n",
              "      <th>0</th>\n",
              "      <td>1668</td>\n",
              "      <td>146</td>\n",
              "      <td>102</td>\n",
              "      <td>46</td>\n",
              "      <td>14</td>\n",
              "      <td>13</td>\n",
              "      <td>0</td>\n",
              "    </tr>\n",
              "    <tr>\n",
              "      <th>1</th>\n",
              "      <td>116</td>\n",
              "      <td>2099</td>\n",
              "      <td>157</td>\n",
              "      <td>26</td>\n",
              "      <td>32</td>\n",
              "      <td>15</td>\n",
              "      <td>13</td>\n",
              "    </tr>\n",
              "    <tr>\n",
              "      <th>2</th>\n",
              "      <td>102</td>\n",
              "      <td>175</td>\n",
              "      <td>2355</td>\n",
              "      <td>164</td>\n",
              "      <td>44</td>\n",
              "      <td>32</td>\n",
              "      <td>112</td>\n",
              "    </tr>\n",
              "    <tr>\n",
              "      <th>3</th>\n",
              "      <td>25</td>\n",
              "      <td>21</td>\n",
              "      <td>107</td>\n",
              "      <td>2175</td>\n",
              "      <td>24</td>\n",
              "      <td>14</td>\n",
              "      <td>10</td>\n",
              "    </tr>\n",
              "    <tr>\n",
              "      <th>4</th>\n",
              "      <td>29</td>\n",
              "      <td>26</td>\n",
              "      <td>41</td>\n",
              "      <td>44</td>\n",
              "      <td>2728</td>\n",
              "      <td>62</td>\n",
              "      <td>77</td>\n",
              "    </tr>\n",
              "    <tr>\n",
              "      <th>5</th>\n",
              "      <td>8</td>\n",
              "      <td>5</td>\n",
              "      <td>19</td>\n",
              "      <td>22</td>\n",
              "      <td>7</td>\n",
              "      <td>2706</td>\n",
              "      <td>12</td>\n",
              "    </tr>\n",
              "    <tr>\n",
              "      <th>6</th>\n",
              "      <td>10</td>\n",
              "      <td>10</td>\n",
              "      <td>137</td>\n",
              "      <td>13</td>\n",
              "      <td>56</td>\n",
              "      <td>13</td>\n",
              "      <td>2430</td>\n",
              "    </tr>\n",
              "  </tbody>\n",
              "</table>\n",
              "</div>"
            ],
            "text/plain": [
              "pred     0     1     2     3     4     5     6\n",
              "real                                          \n",
              "0     1668   146   102    46    14    13     0\n",
              "1      116  2099   157    26    32    15    13\n",
              "2      102   175  2355   164    44    32   112\n",
              "3       25    21   107  2175    24    14    10\n",
              "4       29    26    41    44  2728    62    77\n",
              "5        8     5    19    22     7  2706    12\n",
              "6       10    10   137    13    56    13  2430"
            ]
          },
          "metadata": {
            "tags": []
          },
          "execution_count": 107
        }
      ]
    },
    {
      "cell_type": "code",
      "metadata": {
        "colab": {
          "base_uri": "https://localhost:8080/"
        },
        "id": "la6dhwEhq00W",
        "outputId": "ccecc184-ce79-4c41-892e-dc4d3b094aa1"
      },
      "source": [
        "pred"
      ],
      "execution_count": null,
      "outputs": [
        {
          "output_type": "execute_result",
          "data": {
            "text/plain": [
              "array([2, 3, 2, ..., 3, 2, 6])"
            ]
          },
          "metadata": {
            "tags": []
          },
          "execution_count": 108
        }
      ]
    },
    {
      "cell_type": "code",
      "metadata": {
        "id": "omnxBluAzmIg"
      },
      "source": [
        "submission_1 = pd.read_csv(\"/content/drive/MyDrive/DACON/topic_classification/sample_submission.csv\",error_bad_lines=False)"
      ],
      "execution_count": null,
      "outputs": []
    },
    {
      "cell_type": "code",
      "metadata": {
        "id": "Is2lFphuoJgK"
      },
      "source": [
        "import torch.nn.functional as F\n",
        "import torch"
      ],
      "execution_count": null,
      "outputs": []
    },
    {
      "cell_type": "code",
      "metadata": {
        "id": "mvwxScUXoLcE"
      },
      "source": [
        "z = torch.FloatTensor(predictions)\n",
        "probs_1 = F.softmax(z, dim=1)\n",
        "probs_1 = (probs_1).tolist()"
      ],
      "execution_count": null,
      "outputs": []
    },
    {
      "cell_type": "code",
      "metadata": {
        "id": "sHnjm1OQ24Rn"
      },
      "source": [
        "\n",
        "a, b, c, d, e, f, g = [], [] ,[] ,[] ,[] ,[] ,[]\n",
        "for row in probs_1:\n",
        "    a.append(row[0])\n",
        "    b.append(row[1])\n",
        "    c.append(row[2])\n",
        "    d.append(row[3])\n",
        "    e.append(row[4])\n",
        "    f.append(row[5])\n",
        "    g.append(row[6])\n",
        "\n",
        "submission_1['0'] = a\n",
        "submission_1['1'] = b\n",
        "submission_1['2'] = c\n",
        "submission_1['3'] = d\n",
        "submission_1['4'] = e\n",
        "submission_1['5'] = f\n",
        "submission_1['6'] = g\n",
        "\n",
        "submission_1.topic_idx = pred\n",
        "submission.topic_idx = pred"
      ],
      "execution_count": null,
      "outputs": []
    },
    {
      "cell_type": "code",
      "metadata": {
        "colab": {
          "base_uri": "https://localhost:8080/",
          "height": 419
        },
        "id": "BFH5iSBKrNWB",
        "outputId": "30a61c07-05dc-49f4-bec6-512a533e521c"
      },
      "source": [
        "submission_1"
      ],
      "execution_count": null,
      "outputs": [
        {
          "output_type": "execute_result",
          "data": {
            "text/html": [
              "<div>\n",
              "<style scoped>\n",
              "    .dataframe tbody tr th:only-of-type {\n",
              "        vertical-align: middle;\n",
              "    }\n",
              "\n",
              "    .dataframe tbody tr th {\n",
              "        vertical-align: top;\n",
              "    }\n",
              "\n",
              "    .dataframe thead th {\n",
              "        text-align: right;\n",
              "    }\n",
              "</style>\n",
              "<table border=\"1\" class=\"dataframe\">\n",
              "  <thead>\n",
              "    <tr style=\"text-align: right;\">\n",
              "      <th></th>\n",
              "      <th>index</th>\n",
              "      <th>topic_idx</th>\n",
              "      <th>0</th>\n",
              "      <th>1</th>\n",
              "      <th>2</th>\n",
              "      <th>3</th>\n",
              "      <th>4</th>\n",
              "      <th>5</th>\n",
              "      <th>6</th>\n",
              "    </tr>\n",
              "  </thead>\n",
              "  <tbody>\n",
              "    <tr>\n",
              "      <th>0</th>\n",
              "      <td>45654</td>\n",
              "      <td>2</td>\n",
              "      <td>0.215041</td>\n",
              "      <td>0.016211</td>\n",
              "      <td>0.406379</td>\n",
              "      <td>0.357896</td>\n",
              "      <td>0.001104</td>\n",
              "      <td>0.001923</td>\n",
              "      <td>0.001446</td>\n",
              "    </tr>\n",
              "    <tr>\n",
              "      <th>1</th>\n",
              "      <td>45655</td>\n",
              "      <td>3</td>\n",
              "      <td>0.000634</td>\n",
              "      <td>0.000404</td>\n",
              "      <td>0.011925</td>\n",
              "      <td>0.984652</td>\n",
              "      <td>0.000418</td>\n",
              "      <td>0.000907</td>\n",
              "      <td>0.001062</td>\n",
              "    </tr>\n",
              "    <tr>\n",
              "      <th>2</th>\n",
              "      <td>45656</td>\n",
              "      <td>2</td>\n",
              "      <td>0.003131</td>\n",
              "      <td>0.003214</td>\n",
              "      <td>0.977291</td>\n",
              "      <td>0.003675</td>\n",
              "      <td>0.000567</td>\n",
              "      <td>0.000496</td>\n",
              "      <td>0.011626</td>\n",
              "    </tr>\n",
              "    <tr>\n",
              "      <th>3</th>\n",
              "      <td>45657</td>\n",
              "      <td>2</td>\n",
              "      <td>0.180473</td>\n",
              "      <td>0.005235</td>\n",
              "      <td>0.749717</td>\n",
              "      <td>0.005749</td>\n",
              "      <td>0.004177</td>\n",
              "      <td>0.000999</td>\n",
              "      <td>0.053652</td>\n",
              "    </tr>\n",
              "    <tr>\n",
              "      <th>4</th>\n",
              "      <td>45658</td>\n",
              "      <td>3</td>\n",
              "      <td>0.000519</td>\n",
              "      <td>0.000657</td>\n",
              "      <td>0.004605</td>\n",
              "      <td>0.992992</td>\n",
              "      <td>0.000344</td>\n",
              "      <td>0.000429</td>\n",
              "      <td>0.000454</td>\n",
              "    </tr>\n",
              "    <tr>\n",
              "      <th>...</th>\n",
              "      <td>...</td>\n",
              "      <td>...</td>\n",
              "      <td>...</td>\n",
              "      <td>...</td>\n",
              "      <td>...</td>\n",
              "      <td>...</td>\n",
              "      <td>...</td>\n",
              "      <td>...</td>\n",
              "      <td>...</td>\n",
              "    </tr>\n",
              "    <tr>\n",
              "      <th>9126</th>\n",
              "      <td>54780</td>\n",
              "      <td>3</td>\n",
              "      <td>0.000755</td>\n",
              "      <td>0.000458</td>\n",
              "      <td>0.024616</td>\n",
              "      <td>0.971422</td>\n",
              "      <td>0.000589</td>\n",
              "      <td>0.000981</td>\n",
              "      <td>0.001178</td>\n",
              "    </tr>\n",
              "    <tr>\n",
              "      <th>9127</th>\n",
              "      <td>54781</td>\n",
              "      <td>2</td>\n",
              "      <td>0.001294</td>\n",
              "      <td>0.001153</td>\n",
              "      <td>0.870385</td>\n",
              "      <td>0.001993</td>\n",
              "      <td>0.015376</td>\n",
              "      <td>0.000716</td>\n",
              "      <td>0.109082</td>\n",
              "    </tr>\n",
              "    <tr>\n",
              "      <th>9128</th>\n",
              "      <td>54782</td>\n",
              "      <td>3</td>\n",
              "      <td>0.002520</td>\n",
              "      <td>0.003682</td>\n",
              "      <td>0.291404</td>\n",
              "      <td>0.696688</td>\n",
              "      <td>0.001650</td>\n",
              "      <td>0.001489</td>\n",
              "      <td>0.002569</td>\n",
              "    </tr>\n",
              "    <tr>\n",
              "      <th>9129</th>\n",
              "      <td>54783</td>\n",
              "      <td>2</td>\n",
              "      <td>0.144090</td>\n",
              "      <td>0.005499</td>\n",
              "      <td>0.798480</td>\n",
              "      <td>0.042268</td>\n",
              "      <td>0.001033</td>\n",
              "      <td>0.001100</td>\n",
              "      <td>0.007530</td>\n",
              "    </tr>\n",
              "    <tr>\n",
              "      <th>9130</th>\n",
              "      <td>54784</td>\n",
              "      <td>6</td>\n",
              "      <td>0.017013</td>\n",
              "      <td>0.005098</td>\n",
              "      <td>0.292726</td>\n",
              "      <td>0.000961</td>\n",
              "      <td>0.002711</td>\n",
              "      <td>0.001051</td>\n",
              "      <td>0.680439</td>\n",
              "    </tr>\n",
              "  </tbody>\n",
              "</table>\n",
              "<p>9131 rows × 9 columns</p>\n",
              "</div>"
            ],
            "text/plain": [
              "      index  topic_idx         0  ...         4         5         6\n",
              "0     45654          2  0.215041  ...  0.001104  0.001923  0.001446\n",
              "1     45655          3  0.000634  ...  0.000418  0.000907  0.001062\n",
              "2     45656          2  0.003131  ...  0.000567  0.000496  0.011626\n",
              "3     45657          2  0.180473  ...  0.004177  0.000999  0.053652\n",
              "4     45658          3  0.000519  ...  0.000344  0.000429  0.000454\n",
              "...     ...        ...       ...  ...       ...       ...       ...\n",
              "9126  54780          3  0.000755  ...  0.000589  0.000981  0.001178\n",
              "9127  54781          2  0.001294  ...  0.015376  0.000716  0.109082\n",
              "9128  54782          3  0.002520  ...  0.001650  0.001489  0.002569\n",
              "9129  54783          2  0.144090  ...  0.001033  0.001100  0.007530\n",
              "9130  54784          6  0.017013  ...  0.002711  0.001051  0.680439\n",
              "\n",
              "[9131 rows x 9 columns]"
            ]
          },
          "metadata": {
            "tags": []
          },
          "execution_count": 121
        }
      ]
    },
    {
      "cell_type": "code",
      "metadata": {
        "colab": {
          "base_uri": "https://localhost:8080/",
          "height": 419
        },
        "id": "Dkz_FkYq7NJQ",
        "outputId": "db62ab00-1e42-4816-d19e-61c71981fa82"
      },
      "source": [
        "submission"
      ],
      "execution_count": null,
      "outputs": [
        {
          "output_type": "execute_result",
          "data": {
            "text/html": [
              "<div>\n",
              "<style scoped>\n",
              "    .dataframe tbody tr th:only-of-type {\n",
              "        vertical-align: middle;\n",
              "    }\n",
              "\n",
              "    .dataframe tbody tr th {\n",
              "        vertical-align: top;\n",
              "    }\n",
              "\n",
              "    .dataframe thead th {\n",
              "        text-align: right;\n",
              "    }\n",
              "</style>\n",
              "<table border=\"1\" class=\"dataframe\">\n",
              "  <thead>\n",
              "    <tr style=\"text-align: right;\">\n",
              "      <th></th>\n",
              "      <th>index</th>\n",
              "      <th>topic_idx</th>\n",
              "    </tr>\n",
              "  </thead>\n",
              "  <tbody>\n",
              "    <tr>\n",
              "      <th>0</th>\n",
              "      <td>45654</td>\n",
              "      <td>2</td>\n",
              "    </tr>\n",
              "    <tr>\n",
              "      <th>1</th>\n",
              "      <td>45655</td>\n",
              "      <td>3</td>\n",
              "    </tr>\n",
              "    <tr>\n",
              "      <th>2</th>\n",
              "      <td>45656</td>\n",
              "      <td>2</td>\n",
              "    </tr>\n",
              "    <tr>\n",
              "      <th>3</th>\n",
              "      <td>45657</td>\n",
              "      <td>2</td>\n",
              "    </tr>\n",
              "    <tr>\n",
              "      <th>4</th>\n",
              "      <td>45658</td>\n",
              "      <td>3</td>\n",
              "    </tr>\n",
              "    <tr>\n",
              "      <th>...</th>\n",
              "      <td>...</td>\n",
              "      <td>...</td>\n",
              "    </tr>\n",
              "    <tr>\n",
              "      <th>9126</th>\n",
              "      <td>54780</td>\n",
              "      <td>3</td>\n",
              "    </tr>\n",
              "    <tr>\n",
              "      <th>9127</th>\n",
              "      <td>54781</td>\n",
              "      <td>2</td>\n",
              "    </tr>\n",
              "    <tr>\n",
              "      <th>9128</th>\n",
              "      <td>54782</td>\n",
              "      <td>3</td>\n",
              "    </tr>\n",
              "    <tr>\n",
              "      <th>9129</th>\n",
              "      <td>54783</td>\n",
              "      <td>2</td>\n",
              "    </tr>\n",
              "    <tr>\n",
              "      <th>9130</th>\n",
              "      <td>54784</td>\n",
              "      <td>6</td>\n",
              "    </tr>\n",
              "  </tbody>\n",
              "</table>\n",
              "<p>9131 rows × 2 columns</p>\n",
              "</div>"
            ],
            "text/plain": [
              "      index  topic_idx\n",
              "0     45654          2\n",
              "1     45655          3\n",
              "2     45656          2\n",
              "3     45657          2\n",
              "4     45658          3\n",
              "...     ...        ...\n",
              "9126  54780          3\n",
              "9127  54781          2\n",
              "9128  54782          3\n",
              "9129  54783          2\n",
              "9130  54784          6\n",
              "\n",
              "[9131 rows x 2 columns]"
            ]
          },
          "metadata": {
            "tags": []
          },
          "execution_count": 120
        }
      ]
    },
    {
      "cell_type": "code",
      "metadata": {
        "id": "Xs6la5cFonqR"
      },
      "source": [
        "submission_1.to_csv('Kobert_Radam.csv',index = False)\n",
        "submission.to_csv('KoBERT_Radam.csv',index = False)"
      ],
      "execution_count": null,
      "outputs": []
    },
    {
      "cell_type": "code",
      "metadata": {
        "colab": {
          "base_uri": "https://localhost:8080/",
          "height": 295
        },
        "id": "Eek52q0o-u2i",
        "outputId": "112751b5-6b8e-402e-9621-33bee6ea1e92"
      },
      "source": [
        "\n",
        "\n",
        "loss = history.history['loss']\n",
        "val_loss = history.history['val_loss']\n",
        "\n",
        "epochs = range(1, len(loss) + 1)\n",
        "\n",
        "plt.plot(epochs, loss, 'ro', label='Training loss')\n",
        "plt.plot(epochs, val_loss, 'r', label='Validation loss')\n",
        "plt.title('Training and validation loss')\n",
        "plt.xlabel('Epochs')\n",
        "plt.ylabel('Loss')\n",
        "plt.legend()\n",
        "\n",
        "plt.show()"
      ],
      "execution_count": null,
      "outputs": [
        {
          "output_type": "display_data",
          "data": {
            "image/png": "[encoded data removed]",
            "text/plain": [
              "<Figure size 432x288 with 1 Axes>"
            ]
          },
          "metadata": {
            "tags": [],
            "needs_background": "light"
          }
        }
      ]
    },
    {
      "cell_type": "code",
      "metadata": {
        "colab": {
          "base_uri": "https://localhost:8080/",
          "height": 295
        },
        "id": "mzi6NVrT_tS9",
        "outputId": "b79b1734-ff5f-4f03-df1f-d3649fc2c6c2"
      },
      "source": [
        "plt.clf()   # 초기화\n",
        "acc = history.history['accuracy']\n",
        "val_acc = history.history['val_accuracy']\n",
        "\n",
        "plt.plot(epochs, acc, 'bo', label='Training acc')\n",
        "plt.plot(epochs, val_acc, 'b', label='Validation acc')\n",
        "plt.title('Training and validation accuracy')\n",
        "plt.xlabel('Epochs')\n",
        "plt.ylabel('Accuracy')\n",
        "plt.legend()\n",
        "\n",
        "plt.show()"
      ],
      "execution_count": null,
      "outputs": [
        {
          "output_type": "display_data",
          "data": {
            "image/png": "[encoded data removed]",
            "text/plain": [
              "<Figure size 432x288 with 1 Axes>"
            ]
          },
          "metadata": {
            "tags": [],
            "needs_background": "light"
          }
        }
      ]
    },
    {
      "cell_type": "code",
      "metadata": {
        "colab": {
          "base_uri": "https://localhost:8080/"
        },
        "id": "UD5946A986ct",
        "outputId": "67a0894a-ff4a-4302-fcd5-46072707045a"
      },
      "source": [
        "!pip install /content/drive/MyDrive/DACON/dacon_submit_api-0.0.4-py3-none-any.whl"
      ],
      "execution_count": null,
      "outputs": [
        {
          "output_type": "stream",
          "text": [
            "Processing ./drive/MyDrive/DACON/dacon_submit_api-0.0.4-py3-none-any.whl\n",
            "Installing collected packages: dacon-submit-api\n",
            "Successfully installed dacon-submit-api-0.0.4\n"
          ],
          "name": "stdout"
        }
      ]
    },
    {
      "cell_type": "code",
      "metadata": {
        "colab": {
          "base_uri": "https://localhost:8080/"
        },
        "id": "z37_qxxj9ByG",
        "outputId": "c940b343-a6c8-4110-dcc1-82f03ef2fa6e"
      },
      "source": [
        "from dacon_submit_api import dacon_submit_api \n",
        "\n",
        "result = dacon_submit_api.post_submission_file(\n",
        "'KoBERT_Radam.csv', # 파일경로\n",
        "'e6ebfea66ef322fcfc88d1d2985d55d8c676a5635701ea26a20cd1d1f5a6ac9f',  # 개인토큰\n",
        "'235747', # 대회 id\n",
        "'Healthy Guys',  # 팀이름\n",
        "'KoBERT_Radam') # 노트"
      ],
      "execution_count": null,
      "outputs": [
        {
          "output_type": "stream",
          "text": [
            "{'isSubmitted': True, 'detail': 'Success'}\n"
          ],
          "name": "stdout"
        }
      ]
    },
    {
      "cell_type": "code",
      "metadata": {
        "id": "4-90Wzqw8Jjr"
      },
      "source": [
        ""
      ],
      "execution_count": null,
      "outputs": []
    }
  ]
}