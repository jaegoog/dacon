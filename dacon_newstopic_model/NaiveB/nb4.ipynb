{
 "cells": [
  {
   "cell_type": "code",
   "execution_count": 1,
   "id": "257f295d",
   "metadata": {
    "ExecuteTime": {
     "end_time": "2021-07-11T09:56:32.898875Z",
     "start_time": "2021-07-11T09:56:32.222220Z"
    }
   },
   "outputs": [],
   "source": [
    "import pandas as pd\n",
    "import re\n",
    "from konlpy.tag import Mecab\n",
    "mecab = Mecab()"
   ]
  },
  {
   "cell_type": "code",
   "execution_count": 2,
   "id": "b2f9a967",
   "metadata": {
    "ExecuteTime": {
     "end_time": "2021-07-11T09:56:37.433392Z",
     "start_time": "2021-07-11T09:56:37.338061Z"
    }
   },
   "outputs": [],
   "source": [
    "train      = pd.read_csv(\"./open/train_data.csv\")\n",
    "test       = pd.read_csv(\"./open/test_data.csv\")\n",
    "submission = pd.read_csv(\"./open/sample_submission.csv\")\n",
    "topic_dict = pd.read_csv(\"./open/topic_dict.csv\")"
   ]
  },
  {
   "cell_type": "markdown",
   "id": "0d6dffd1",
   "metadata": {},
   "source": [
    "# 전처리\n"
   ]
  },
  {
   "cell_type": "code",
   "execution_count": 4,
   "id": "16e2586c",
   "metadata": {
    "ExecuteTime": {
     "end_time": "2021-07-11T10:08:52.011700Z",
     "start_time": "2021-07-11T10:08:52.006848Z"
    }
   },
   "outputs": [],
   "source": [
    "punct = \"/-'?!.,#$%\\'()*+-/:;<=>@[\\\\]^_`{|}~\" + '\"\"“”’' + '∞θ÷α•à−β∅³π‘₹´°£€\\×™√²—–&'\n",
    "punct_mapping = {\"‘\": \"'\", \"₹\": \"e\", \"´\": \"'\", \"°\": \"\", \"€\": \"e\", \"™\": \"tm\", \"√\": \" sqrt \", \"×\": \"x\", \"²\": \"2\", \"—\": \"-\", \"–\": \"-\", \"’\": \"'\", \"_\": \"-\", \"`\": \"'\", '“': '\"', '”': '\"', '“': '\"', \"£\": \"e\", '∞': 'infinity', 'θ': 'theta', '÷': '/', 'α': 'alpha', '•': '.', 'à': 'a', '−': '-', 'β': 'beta', '∅': '', '³': '3', 'π': 'pi', }"
   ]
  },
  {
   "cell_type": "code",
   "execution_count": 5,
   "id": "65545f21",
   "metadata": {
    "ExecuteTime": {
     "end_time": "2021-07-11T10:08:52.494750Z",
     "start_time": "2021-07-11T10:08:52.491194Z"
    }
   },
   "outputs": [],
   "source": [
    "def clean_punc(text, punct, mapping):\n",
    "    for p in mapping:\n",
    "        text = text.replace(p, mapping[p])\n",
    "    \n",
    "    for p in punct:\n",
    "        text = text.replace(p, f' {p} ')\n",
    "    \n",
    "    specials = {'\\u200b': ' ', '…': ' ... ', '\\ufeff': '', 'करना': '', 'है': ''}\n",
    "    for s in specials:\n",
    "        text = text.replace(s, specials[s])\n",
    "    \n",
    "    return text.strip()"
   ]
  },
  {
   "cell_type": "code",
   "execution_count": 6,
   "id": "a678059b",
   "metadata": {
    "ExecuteTime": {
     "end_time": "2021-07-11T10:08:54.095952Z",
     "start_time": "2021-07-11T10:08:53.266728Z"
    }
   },
   "outputs": [],
   "source": [
    "cleaned_train_corpus = []\n",
    "cleaned_test_corpus = []\n",
    "\n",
    "for sent in train['title']:\n",
    "    cleaned_train_corpus.append(clean_punc(sent, punct, punct_mapping))\n",
    "    \n",
    "for sent in test['title']:\n",
    "    cleaned_test_corpus.append(clean_punc(sent, punct, punct_mapping))"
   ]
  },
  {
   "cell_type": "code",
   "execution_count": 8,
   "id": "fb509721",
   "metadata": {
    "ExecuteTime": {
     "end_time": "2021-07-11T10:11:38.674715Z",
     "start_time": "2021-07-11T10:11:38.660360Z"
    }
   },
   "outputs": [],
   "source": [
    "def clean_text(texts):\n",
    "    corpus = []\n",
    "    for i in range(0, len(texts)):\n",
    "        texts[i] = texts[i].replace(\"外人\",\"외국인\")\n",
    "        texts[i] = texts[i].replace(\"日\",\"일본\")\n",
    "        texts[i] = texts[i].replace(\"美\",\"미국\")\n",
    "        texts[i] = texts[i].replace(\"北\",\"북한\")\n",
    "        texts[i] = texts[i].replace(\"英\",\"영국\")\n",
    "        texts[i] = texts[i].replace(\"中\",\"중국\")\n",
    "        texts[i] = texts[i].replace(\"與\",\"여당\")\n",
    "        texts[i] = texts[i].replace(\"靑\",\"청와대\")\n",
    "        texts[i] = texts[i].replace(\"野\",\"야당\")\n",
    "        texts[i] = texts[i].replace(\"伊\",\"이탈리아\")\n",
    "        texts[i] = texts[i].replace(\"韓\",\"한국\")\n",
    "        texts[i] = texts[i].replace(\"南\",\"한국\")\n",
    "        texts[i] = texts[i].replace(\"獨\",\"독일\")\n",
    "        texts[i] = texts[i].replace(\"佛\",\"프랑스\")\n",
    "        texts[i] = texts[i].replace(\"檢\",\"검찰\")\n",
    "        texts[i] = texts[i].replace(\"銀\",\"은행\")\n",
    "        texts[i] = texts[i].replace(\"亞\",\"아시아\")\n",
    "        texts[i] = texts[i].replace(\"人\",\"사람\")\n",
    "        texts[i] = texts[i].replace(\"孫\",\"손혜원\")\n",
    "        texts[i] = texts[i].replace(\"企\",\"기업\")\n",
    "        texts[i] = texts[i].replace(\"前\",\"이전\")\n",
    "        texts[i] = texts[i].replace(\"反\",\"반대\")\n",
    "        texts[i] = texts[i].replace(\"安\",\"안철수\")\n",
    "        texts[i] = texts[i].replace(\"展\",\"전시회\")\n",
    "        texts[i] = texts[i].replace(\"故\",\"사망\")\n",
    "        texts[i] = texts[i].replace(\"文\",\"문재인\")\n",
    "        texts[i] = texts[i].replace(\"新\",\"새로운\")\n",
    "        texts[i] = texts[i].replace(\"曺\",\"조국\")\n",
    "        texts[i] = texts[i].replace(\"朴\",\"박정치인\")\n",
    "        texts[i] = texts[i].replace(\"株\",\"주식\")\n",
    "        texts[i] = texts[i].replace(\"男\",\"남자\")\n",
    "        texts[i] = texts[i].replace(\"硏\",\"연구\")\n",
    "        texts[i] = texts[i].replace(\"車\",\"자동차\")\n",
    "        texts[i] = texts[i].replace(\"軍\",\"군대\")\n",
    "        texts[i] = texts[i].replace(\"重\",\"중공업\")\n",
    "        texts[i] = texts[i].replace(\"R&D\",\"연구개발\")\n",
    "        texts[i] = texts[i].replace(\"문정부\",\"문재인정부\")\n",
    "        \n",
    "\n",
    "\n",
    "        \n",
    "        review = re.sub(r'[@%\\\\*=()/~#&\\+á?\\xc3\\xa1\\-\\|\\.\\:\\;\\!\\-\\,\\_\\~\\$\\'\\\"]', '',str(texts[i])) #remove punctuation\n",
    "        review = re.sub(r'\\d+','', str(review))# remove number\n",
    "        review = review.lower() #lower case\n",
    "        review = re.sub(r'\\s+', ' ', review) #remove extra space\n",
    "        review = re.sub(r'<[^>]+>','',review) #remove Html tags\n",
    "        review = re.sub(r'\\s+', ' ', review) #remove spaces\n",
    "        review = re.sub(r\"^\\s+\", '', review) #remove space from start\n",
    "        review = re.sub(r'\\s+$', '', review) #remove space from the end\n",
    "        corpus.append(review)\n",
    "    return corpus"
   ]
  },
  {
   "cell_type": "code",
   "execution_count": 9,
   "id": "24803d05",
   "metadata": {
    "ExecuteTime": {
     "end_time": "2021-07-11T10:11:40.907535Z",
     "start_time": "2021-07-11T10:11:39.905978Z"
    }
   },
   "outputs": [],
   "source": [
    "basic_preprocessed_train_corpus = clean_text(cleaned_train_corpus)\n",
    "basic_preprocessed_test_corpus = clean_text(cleaned_test_corpus)"
   ]
  },
  {
   "cell_type": "code",
   "execution_count": 10,
   "id": "a47d199a",
   "metadata": {
    "ExecuteTime": {
     "end_time": "2021-07-11T10:11:42.629134Z",
     "start_time": "2021-07-11T10:11:42.625902Z"
    }
   },
   "outputs": [
    {
     "name": "stdout",
     "output_type": "stream",
     "text": [
      "인천→핀란드 항공기 결항 휴가철 여행객 분통\n",
      "실리콘밸리 넘어서겠다 구글 조원 들여 미국전역 거점화\n",
      "이란 외무 긴장완화 해결책은 미국이 경제전쟁 멈추는 것\n",
      "nyt 클린턴 측근한국기업 특수관계 조명 공과 사 맞물려종합\n",
      "시진핑 트럼프에 중미 무역협상 조속 타결 희망\n",
      "팔레스타인 가자지구서 세 소년 이스라엘군 총격에 사망\n",
      "인도 년 만에 파키스탄 공습 테러 캠프 폭격종합보\n",
      "미국대선 tv토론 음담패설 만회실패 트럼프 사과 대신 빌클린턴 공격해 역효과\n",
      "푸틴 한반도 상황 진전 위한 방안 김정은 위원장과 논의\n",
      "특검 면죄부 받은 트럼프 스캔들 보도 언론 맹공 국민의 적\n"
     ]
    }
   ],
   "source": [
    "for i in range(0, 10):\n",
    "    print(basic_preprocessed_train_corpus[i])"
   ]
  },
  {
   "cell_type": "code",
   "execution_count": 11,
   "id": "607c172c",
   "metadata": {
    "ExecuteTime": {
     "end_time": "2021-07-11T10:11:43.757681Z",
     "start_time": "2021-07-11T10:11:43.754560Z"
    }
   },
   "outputs": [
    {
     "name": "stdout",
     "output_type": "stream",
     "text": [
      "유튜브 내달 일까지 크리에이터 지원 공간 운영\n",
      "어버이날 맑다가 흐려져 남부지방 옅은 황사\n",
      "내년부터 국가rd 평가 때 논문건수는 반영 않는다\n",
      "김명자 신임 과총 회장 원로와 젊은 과학자 지혜 모을 것\n",
      "회색인간 작가 김동식 양심고백 등 새 소설집 권 출간\n",
      "야외서 생방송 하세요 액션캠 전용 요금제 잇따라\n",
      "월드컵 태극전사 강 전초기지 레오강 입성종합\n",
      "미세먼지 속 출근길\n",
      "왓츠앱稅 원에 성난 레바논 민심 총리사퇴로 이어져종합보\n",
      "베트남 경제 고성장 지속 분기 gdp 성장\n"
     ]
    }
   ],
   "source": [
    "for i in range(0, 10):\n",
    "    print(basic_preprocessed_test_corpus[i])"
   ]
  },
  {
   "cell_type": "markdown",
   "id": "877ca611",
   "metadata": {},
   "source": [
    "# 형태소 분석기 테스트"
   ]
  },
  {
   "cell_type": "code",
   "execution_count": 35,
   "id": "40e29618",
   "metadata": {
    "ExecuteTime": {
     "end_time": "2021-07-11T12:08:09.034041Z",
     "start_time": "2021-07-11T12:08:09.029079Z"
    }
   },
   "outputs": [
    {
     "data": {
      "text/plain": [
       "[('오키나와', 'NNP'),\n",
       " ('가자지구', 'NNP'),\n",
       " ('오바마', 'NNP'),\n",
       " ('워싱턴', 'NNP'),\n",
       " ('휴가철', 'NNG'),\n",
       " ('면죄부', 'NNG'),\n",
       " ('문정부', 'NNP'),\n",
       " ('문', 'NNG'),\n",
       " ('대통령', 'NNG'),\n",
       " ('급락', 'NNG'),\n",
       " ('흥국', 'NNG'),\n",
       " ('생명', 'NNG')]"
      ]
     },
     "execution_count": 35,
     "metadata": {},
     "output_type": "execute_result"
    }
   ],
   "source": [
    "mecab.pos(\"오키나와 가자지구 오바마 워싱턴 휴가철 면죄부 문정부 문대통령 급락 흥국생명\")"
   ]
  },
  {
   "cell_type": "markdown",
   "id": "81606a09",
   "metadata": {},
   "source": [
    "# 형태소분석, 불용어처리"
   ]
  },
  {
   "cell_type": "code",
   "execution_count": 26,
   "id": "8b1b1648",
   "metadata": {
    "ExecuteTime": {
     "end_time": "2021-07-11T11:38:06.264429Z",
     "start_time": "2021-07-11T11:37:58.038676Z"
    }
   },
   "outputs": [],
   "source": [
    "stopwords = []\n",
    "with open(\"./DATA/stopwords.txt\") as f:\n",
    "    for line in f:\n",
    "        stopwords.append(line.strip())\n",
    "\n",
    "removed_stopword_train_corpus = []\n",
    "removed_stopword_test_corpus = []\n",
    "\n",
    "for tagged in basic_preprocessed_train_corpus:\n",
    "    tagged=mecab.pos(tagged)\n",
    "    \n",
    "    temp = []\n",
    "    for tag in tagged:\n",
    "        if tag[0] in stopwords or tag[1][0] not in ['N','V']:\n",
    "            continue\n",
    "        temp.append(tag[0])\n",
    "\n",
    "    removed_stopword_train_corpus.append(' '.join(temp))\n",
    "    \n",
    "for tagged in basic_preprocessed_test_corpus:\n",
    "    tagged=mecab.pos(tagged)\n",
    "    \n",
    "    temp = []\n",
    "    for tag in tagged:\n",
    "        if tag[0] in stopwords or tag[1][0] not in ['N','V']:\n",
    "            continue\n",
    "        temp.append(tag[0])\n",
    "\n",
    "    removed_stopword_test_corpus.append(' '.join(temp))"
   ]
  },
  {
   "cell_type": "code",
   "execution_count": 28,
   "id": "a02bd96e",
   "metadata": {
    "ExecuteTime": {
     "end_time": "2021-07-11T11:38:24.405422Z",
     "start_time": "2021-07-11T11:38:24.401481Z"
    }
   },
   "outputs": [
    {
     "name": "stdout",
     "output_type": "stream",
     "text": [
      "인천 핀란드 항공기 결항 휴가철 여행객 분통\n",
      "실리콘밸리 넘어서 구글 조원 들여 미국 전역 거점\n",
      "이란 외무 긴장 완화 해결책 미국 경제 전쟁 멈추 것\n",
      "클린턴 측근 한국 기업 특수 관계 조명 공과 사 맞물려 종합\n",
      "시진핑 트럼프 중미 무역 협상 조속 타결 희망\n",
      "팔레스타인 가 지 소년 이스라엘 군 총격 사망\n",
      "인도 년 만 파키스탄 공습 테러 캠프 폭격 종 합보\n",
      "미국 대선 토론 음담패설 만회 실패 트럼프 사과 대신 빌클린턴 공격 역효과\n",
      "푸틴 한반도 상황 진전 위한 방안 김정은 위원장 논의\n",
      "특검 면죄부 받 트럼프 스캔들 보도 언론 맹공 국민 적\n",
      "\n",
      "\n",
      "유튜브 내달 일 크리에이터 지원 공간 운영\n",
      "어버이날 맑 흐려져 남부 지방 옅 황사\n",
      "내년 국가 평가 때 논문 건수 반영 않\n",
      "김명자 신임 과 회장 원로 젊 과학자 지혜 모을 것\n",
      "회색 인간 작가 김동식 양 심 백 등 소설 집 출간\n",
      "야외 방송 하 액션 캠 전용 요금제 잇따라\n",
      "월드컵 태극전사 강 초기 지 레오강 입 종합\n",
      "미세먼지 속 출근길\n",
      "왓츠 앱 稅 원 성난 레바논 민심 총리 사퇴 이어져 종 합보\n",
      "베트남 경제 고성장 지속 분기 성장\n"
     ]
    }
   ],
   "source": [
    "for i in range(0,10):\n",
    "    print(removed_stopword_train_corpus[i])\n",
    "print('\\n')\n",
    "for i in range(0,10):\n",
    "    print(removed_stopword_test_corpus[i])"
   ]
  },
  {
   "cell_type": "markdown",
   "id": "81e345f2",
   "metadata": {},
   "source": [
    "# sklearn - nb 적용"
   ]
  },
  {
   "cell_type": "code",
   "execution_count": 29,
   "id": "3a71d8a2",
   "metadata": {
    "ExecuteTime": {
     "end_time": "2021-07-11T11:52:34.364719Z",
     "start_time": "2021-07-11T11:52:34.361937Z"
    }
   },
   "outputs": [],
   "source": [
    "train_text = removed_stopword_train_corpus\n",
    "test_text = removed_stopword_test_corpus\n",
    "train_label = np.asarray(train.topic_idx)"
   ]
  },
  {
   "cell_type": "code",
   "execution_count": 31,
   "id": "91ff75c7",
   "metadata": {
    "ExecuteTime": {
     "end_time": "2021-07-11T11:53:02.729987Z",
     "start_time": "2021-07-11T11:53:01.709865Z"
    }
   },
   "outputs": [],
   "source": [
    "from sklearn.pipeline import Pipeline\n",
    "from sklearn.naive_bayes import MultinomialNB\n",
    "from sklearn.feature_extraction.text import CountVectorizer\n",
    "from sklearn.feature_extraction.text import TfidfTransformer\n",
    "\n",
    "text_clf = Pipeline([('vect', CountVectorizer()),\n",
    "                    ('tfidf' , TfidfTransformer()),\n",
    "                    ('clf' , MultinomialNB())])"
   ]
  },
  {
   "cell_type": "code",
   "execution_count": 32,
   "id": "3f131f40",
   "metadata": {
    "ExecuteTime": {
     "end_time": "2021-07-11T11:57:59.809302Z",
     "start_time": "2021-07-11T11:53:02.899327Z"
    }
   },
   "outputs": [
    {
     "name": "stdout",
     "output_type": "stream",
     "text": [
      "Fitting 10 folds for each of 50 candidates, totalling 500 fits\n",
      "\tclf:MultinomialNB(alpha=0.25)\n",
      "\tclf__alpha:0.25\n",
      "\tclf__class_prior:None\n",
      "\tclf__fit_prior:True\n",
      "\tmemory:None\n",
      "\tsteps:[('vect', CountVectorizer(ngram_range=(1, 2))), ('tfidf', TfidfTransformer(use_idf=False)), ('clf', MultinomialNB(alpha=0.25))]\n",
      "\ttfidf:TfidfTransformer(use_idf=False)\n",
      "\ttfidf__norm:l2\n",
      "\ttfidf__smooth_idf:True\n",
      "\ttfidf__sublinear_tf:False\n",
      "\ttfidf__use_idf:False\n",
      "\tvect:CountVectorizer(ngram_range=(1, 2))\n",
      "\tvect__analyzer:word\n",
      "\tvect__binary:False\n",
      "\tvect__decode_error:strict\n",
      "\tvect__dtype:<class 'numpy.int64'>\n",
      "\tvect__encoding:utf-8\n",
      "\tvect__input:content\n",
      "\tvect__lowercase:True\n",
      "\tvect__max_df:1.0\n",
      "\tvect__max_features:None\n",
      "\tvect__min_df:1\n",
      "\tvect__ngram_range:(1, 2)\n",
      "\tvect__preprocessor:None\n",
      "\tvect__stop_words:None\n",
      "\tvect__strip_accents:None\n",
      "\tvect__token_pattern:(?u)\\b\\w\\w+\\b\n",
      "\tvect__tokenizer:None\n",
      "\tvect__vocabulary:None\n",
      "\tverbose:False\n"
     ]
    }
   ],
   "source": [
    "text_clf = text_clf.fit(train_text, train_label)\n",
    "\n",
    "from sklearn.model_selection import GridSearchCV\n",
    "parameters_clf = {\n",
    "    \"vect__ngram_range\" : [(1,1), (1,2), (1,3), (1,4), (1,5)],\n",
    "    \"tfidf__use_idf\" : (True, False),\n",
    "    \"clf__alpha\" : (1, 0.35,0.3,0.25, 0.1)\n",
    "}\n",
    "\n",
    "gs_clf = GridSearchCV(text_clf, parameters_clf, n_jobs = -1, verbose = 2, cv = 10)\n",
    "gs_clf = gs_clf.fit(train_text, train_label)\n",
    "\n",
    "\n",
    "best_parameters= gs_clf.best_estimator_.get_params()\n",
    "\n",
    "for param_name in sorted(list(best_parameters.keys())):\n",
    "    print(\"\\t{}:{}\".format(param_name, best_parameters[param_name]))\n",
    "\n",
    "predicted = gs_clf.best_estimator_.predict(test_text)\n",
    "# np.mean(predicted == valid_label) "
   ]
  },
  {
   "cell_type": "code",
   "execution_count": 33,
   "id": "91349e55",
   "metadata": {
    "ExecuteTime": {
     "end_time": "2021-07-11T11:58:08.148233Z",
     "start_time": "2021-07-11T11:58:08.130392Z"
    }
   },
   "outputs": [
    {
     "data": {
      "text/html": [
       "<div>\n",
       "<style scoped>\n",
       "    .dataframe tbody tr th:only-of-type {\n",
       "        vertical-align: middle;\n",
       "    }\n",
       "\n",
       "    .dataframe tbody tr th {\n",
       "        vertical-align: top;\n",
       "    }\n",
       "\n",
       "    .dataframe thead th {\n",
       "        text-align: right;\n",
       "    }\n",
       "</style>\n",
       "<table border=\"1\" class=\"dataframe\">\n",
       "  <thead>\n",
       "    <tr style=\"text-align: right;\">\n",
       "      <th></th>\n",
       "      <th>index</th>\n",
       "      <th>topic_idx</th>\n",
       "    </tr>\n",
       "  </thead>\n",
       "  <tbody>\n",
       "    <tr>\n",
       "      <th>9119</th>\n",
       "      <td>54773</td>\n",
       "      <td>1</td>\n",
       "    </tr>\n",
       "    <tr>\n",
       "      <th>5283</th>\n",
       "      <td>50937</td>\n",
       "      <td>0</td>\n",
       "    </tr>\n",
       "    <tr>\n",
       "      <th>3101</th>\n",
       "      <td>48755</td>\n",
       "      <td>6</td>\n",
       "    </tr>\n",
       "  </tbody>\n",
       "</table>\n",
       "</div>"
      ],
      "text/plain": [
       "      index  topic_idx\n",
       "9119  54773          1\n",
       "5283  50937          0\n",
       "3101  48755          6"
      ]
     },
     "execution_count": 33,
     "metadata": {},
     "output_type": "execute_result"
    }
   ],
   "source": [
    "submission.topic_idx = predicted\n",
    "#submission.topic_idx = nb.predict(test_dtm_text)\n",
    "submission.sample(3)"
   ]
  },
  {
   "cell_type": "code",
   "execution_count": 34,
   "id": "3bde1281",
   "metadata": {
    "ExecuteTime": {
     "end_time": "2021-07-11T11:58:09.350629Z",
     "start_time": "2021-07-11T11:58:09.317665Z"
    }
   },
   "outputs": [],
   "source": [
    "submission.to_csv(\"./submission_sklearn_nb4.csv\", index = False)"
   ]
  },
  {
   "cell_type": "code",
   "execution_count": null,
   "id": "245b4fb2",
   "metadata": {},
   "outputs": [],
   "source": []
  }
 ],
 "metadata": {
  "kernelspec": {
   "display_name": "Python 3",
   "language": "python",
   "name": "python3"
  },
  "language_info": {
   "codemirror_mode": {
    "name": "ipython",
    "version": 3
   },
   "file_extension": ".py",
   "mimetype": "text/x-python",
   "name": "python",
   "nbconvert_exporter": "python",
   "pygments_lexer": "ipython3",
   "version": "3.8.0"
  },
  "varInspector": {
   "cols": {
    "lenName": 16,
    "lenType": 16,
    "lenVar": 40
   },
   "kernels_config": {
    "python": {
     "delete_cmd_postfix": "",
     "delete_cmd_prefix": "del ",
     "library": "var_list.py",
     "varRefreshCmd": "print(var_dic_list())"
    },
    "r": {
     "delete_cmd_postfix": ") ",
     "delete_cmd_prefix": "rm(",
     "library": "var_list.r",
     "varRefreshCmd": "cat(var_dic_list()) "
    }
   },
   "types_to_exclude": [
    "module",
    "function",
    "builtin_function_or_method",
    "instance",
    "_Feature"
   ],
   "window_display": false
  }
 },
 "nbformat": 4,
 "nbformat_minor": 5
}
